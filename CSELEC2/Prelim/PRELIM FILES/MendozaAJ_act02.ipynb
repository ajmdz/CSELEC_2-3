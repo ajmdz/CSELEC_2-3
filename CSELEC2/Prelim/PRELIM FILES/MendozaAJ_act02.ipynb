{
  "cells": [
    {
      "cell_type": "markdown",
      "id": "8f5cb815",
      "metadata": {
        "id": "8f5cb815"
      },
      "source": [
        "# Activity 02 - Pandas"
      ]
    },
    {
      "cell_type": "markdown",
      "id": "f9afbc96",
      "metadata": {
        "id": "f9afbc96"
      },
      "source": [
        "Apply all the techniques we discussed in Pandas 02 (see notebook file attached in our classroom):\n",
        "* Missing data\n",
        "* Merge\n",
        "* Group_by\n",
        "* Concatenation"
      ]
    },
    {
      "cell_type": "code",
      "execution_count": 1,
      "id": "6b52c2cd",
      "metadata": {
        "id": "6b52c2cd",
        "outputId": "bc78d440-8dbb-48b6-89e9-b3da0b816dd7",
        "colab": {
          "base_uri": "https://localhost:8080/",
          "height": 403
        }
      },
      "outputs": [
        {
          "output_type": "execute_result",
          "data": {
            "text/plain": [
              "       Suburb             Address  Rooms Type      Price Method SellerG  \\\n",
              "0  Abbotsford       68 Studley St      2    h        NaN     SS  Jellis   \n",
              "1  Abbotsford        85 Turner St      2    h  1480000.0      S  Biggin   \n",
              "2  Abbotsford     25 Bloomburg St      2    h  1035000.0      S  Biggin   \n",
              "3  Abbotsford  18/659 Victoria St      3    u        NaN     VB  Rounds   \n",
              "4  Abbotsford        5 Charles St      3    h  1465000.0     SP  Biggin   \n",
              "\n",
              "        Date  Distance  Postcode  ...  Bathroom  Car  Landsize  BuildingArea  \\\n",
              "0 2016-03-09       2.5    3067.0  ...       1.0  1.0     126.0           NaN   \n",
              "1 2016-03-12       2.5    3067.0  ...       1.0  1.0     202.0           NaN   \n",
              "2 2016-04-02       2.5    3067.0  ...       1.0  0.0     156.0          79.0   \n",
              "3 2016-04-02       2.5    3067.0  ...       2.0  1.0       0.0           NaN   \n",
              "4 2017-04-03       2.5    3067.0  ...       2.0  0.0     134.0         150.0   \n",
              "\n",
              "   YearBuilt         CouncilArea Lattitude  Longtitude             Regionname  \\\n",
              "0        NaN  Yarra City Council  -37.8014    144.9958  Northern Metropolitan   \n",
              "1        NaN  Yarra City Council  -37.7996    144.9984  Northern Metropolitan   \n",
              "2     1900.0  Yarra City Council  -37.8079    144.9934  Northern Metropolitan   \n",
              "3        NaN  Yarra City Council  -37.8114    145.0116  Northern Metropolitan   \n",
              "4     1900.0  Yarra City Council  -37.8093    144.9944  Northern Metropolitan   \n",
              "\n",
              "  Propertycount  \n",
              "0        4019.0  \n",
              "1        4019.0  \n",
              "2        4019.0  \n",
              "3        4019.0  \n",
              "4        4019.0  \n",
              "\n",
              "[5 rows x 21 columns]"
            ],
            "text/html": [
              "\n",
              "  <div id=\"df-0dbf18d9-c113-45e1-8e81-c7bb6e2084f5\">\n",
              "    <div class=\"colab-df-container\">\n",
              "      <div>\n",
              "<style scoped>\n",
              "    .dataframe tbody tr th:only-of-type {\n",
              "        vertical-align: middle;\n",
              "    }\n",
              "\n",
              "    .dataframe tbody tr th {\n",
              "        vertical-align: top;\n",
              "    }\n",
              "\n",
              "    .dataframe thead th {\n",
              "        text-align: right;\n",
              "    }\n",
              "</style>\n",
              "<table border=\"1\" class=\"dataframe\">\n",
              "  <thead>\n",
              "    <tr style=\"text-align: right;\">\n",
              "      <th></th>\n",
              "      <th>Suburb</th>\n",
              "      <th>Address</th>\n",
              "      <th>Rooms</th>\n",
              "      <th>Type</th>\n",
              "      <th>Price</th>\n",
              "      <th>Method</th>\n",
              "      <th>SellerG</th>\n",
              "      <th>Date</th>\n",
              "      <th>Distance</th>\n",
              "      <th>Postcode</th>\n",
              "      <th>...</th>\n",
              "      <th>Bathroom</th>\n",
              "      <th>Car</th>\n",
              "      <th>Landsize</th>\n",
              "      <th>BuildingArea</th>\n",
              "      <th>YearBuilt</th>\n",
              "      <th>CouncilArea</th>\n",
              "      <th>Lattitude</th>\n",
              "      <th>Longtitude</th>\n",
              "      <th>Regionname</th>\n",
              "      <th>Propertycount</th>\n",
              "    </tr>\n",
              "  </thead>\n",
              "  <tbody>\n",
              "    <tr>\n",
              "      <th>0</th>\n",
              "      <td>Abbotsford</td>\n",
              "      <td>68 Studley St</td>\n",
              "      <td>2</td>\n",
              "      <td>h</td>\n",
              "      <td>NaN</td>\n",
              "      <td>SS</td>\n",
              "      <td>Jellis</td>\n",
              "      <td>2016-03-09</td>\n",
              "      <td>2.5</td>\n",
              "      <td>3067.0</td>\n",
              "      <td>...</td>\n",
              "      <td>1.0</td>\n",
              "      <td>1.0</td>\n",
              "      <td>126.0</td>\n",
              "      <td>NaN</td>\n",
              "      <td>NaN</td>\n",
              "      <td>Yarra City Council</td>\n",
              "      <td>-37.8014</td>\n",
              "      <td>144.9958</td>\n",
              "      <td>Northern Metropolitan</td>\n",
              "      <td>4019.0</td>\n",
              "    </tr>\n",
              "    <tr>\n",
              "      <th>1</th>\n",
              "      <td>Abbotsford</td>\n",
              "      <td>85 Turner St</td>\n",
              "      <td>2</td>\n",
              "      <td>h</td>\n",
              "      <td>1480000.0</td>\n",
              "      <td>S</td>\n",
              "      <td>Biggin</td>\n",
              "      <td>2016-03-12</td>\n",
              "      <td>2.5</td>\n",
              "      <td>3067.0</td>\n",
              "      <td>...</td>\n",
              "      <td>1.0</td>\n",
              "      <td>1.0</td>\n",
              "      <td>202.0</td>\n",
              "      <td>NaN</td>\n",
              "      <td>NaN</td>\n",
              "      <td>Yarra City Council</td>\n",
              "      <td>-37.7996</td>\n",
              "      <td>144.9984</td>\n",
              "      <td>Northern Metropolitan</td>\n",
              "      <td>4019.0</td>\n",
              "    </tr>\n",
              "    <tr>\n",
              "      <th>2</th>\n",
              "      <td>Abbotsford</td>\n",
              "      <td>25 Bloomburg St</td>\n",
              "      <td>2</td>\n",
              "      <td>h</td>\n",
              "      <td>1035000.0</td>\n",
              "      <td>S</td>\n",
              "      <td>Biggin</td>\n",
              "      <td>2016-04-02</td>\n",
              "      <td>2.5</td>\n",
              "      <td>3067.0</td>\n",
              "      <td>...</td>\n",
              "      <td>1.0</td>\n",
              "      <td>0.0</td>\n",
              "      <td>156.0</td>\n",
              "      <td>79.0</td>\n",
              "      <td>1900.0</td>\n",
              "      <td>Yarra City Council</td>\n",
              "      <td>-37.8079</td>\n",
              "      <td>144.9934</td>\n",
              "      <td>Northern Metropolitan</td>\n",
              "      <td>4019.0</td>\n",
              "    </tr>\n",
              "    <tr>\n",
              "      <th>3</th>\n",
              "      <td>Abbotsford</td>\n",
              "      <td>18/659 Victoria St</td>\n",
              "      <td>3</td>\n",
              "      <td>u</td>\n",
              "      <td>NaN</td>\n",
              "      <td>VB</td>\n",
              "      <td>Rounds</td>\n",
              "      <td>2016-04-02</td>\n",
              "      <td>2.5</td>\n",
              "      <td>3067.0</td>\n",
              "      <td>...</td>\n",
              "      <td>2.0</td>\n",
              "      <td>1.0</td>\n",
              "      <td>0.0</td>\n",
              "      <td>NaN</td>\n",
              "      <td>NaN</td>\n",
              "      <td>Yarra City Council</td>\n",
              "      <td>-37.8114</td>\n",
              "      <td>145.0116</td>\n",
              "      <td>Northern Metropolitan</td>\n",
              "      <td>4019.0</td>\n",
              "    </tr>\n",
              "    <tr>\n",
              "      <th>4</th>\n",
              "      <td>Abbotsford</td>\n",
              "      <td>5 Charles St</td>\n",
              "      <td>3</td>\n",
              "      <td>h</td>\n",
              "      <td>1465000.0</td>\n",
              "      <td>SP</td>\n",
              "      <td>Biggin</td>\n",
              "      <td>2017-04-03</td>\n",
              "      <td>2.5</td>\n",
              "      <td>3067.0</td>\n",
              "      <td>...</td>\n",
              "      <td>2.0</td>\n",
              "      <td>0.0</td>\n",
              "      <td>134.0</td>\n",
              "      <td>150.0</td>\n",
              "      <td>1900.0</td>\n",
              "      <td>Yarra City Council</td>\n",
              "      <td>-37.8093</td>\n",
              "      <td>144.9944</td>\n",
              "      <td>Northern Metropolitan</td>\n",
              "      <td>4019.0</td>\n",
              "    </tr>\n",
              "  </tbody>\n",
              "</table>\n",
              "<p>5 rows × 21 columns</p>\n",
              "</div>\n",
              "      <button class=\"colab-df-convert\" onclick=\"convertToInteractive('df-0dbf18d9-c113-45e1-8e81-c7bb6e2084f5')\"\n",
              "              title=\"Convert this dataframe to an interactive table.\"\n",
              "              style=\"display:none;\">\n",
              "        \n",
              "  <svg xmlns=\"http://www.w3.org/2000/svg\" height=\"24px\"viewBox=\"0 0 24 24\"\n",
              "       width=\"24px\">\n",
              "    <path d=\"M0 0h24v24H0V0z\" fill=\"none\"/>\n",
              "    <path d=\"M18.56 5.44l.94 2.06.94-2.06 2.06-.94-2.06-.94-.94-2.06-.94 2.06-2.06.94zm-11 1L8.5 8.5l.94-2.06 2.06-.94-2.06-.94L8.5 2.5l-.94 2.06-2.06.94zm10 10l.94 2.06.94-2.06 2.06-.94-2.06-.94-.94-2.06-.94 2.06-2.06.94z\"/><path d=\"M17.41 7.96l-1.37-1.37c-.4-.4-.92-.59-1.43-.59-.52 0-1.04.2-1.43.59L10.3 9.45l-7.72 7.72c-.78.78-.78 2.05 0 2.83L4 21.41c.39.39.9.59 1.41.59.51 0 1.02-.2 1.41-.59l7.78-7.78 2.81-2.81c.8-.78.8-2.07 0-2.86zM5.41 20L4 18.59l7.72-7.72 1.47 1.35L5.41 20z\"/>\n",
              "  </svg>\n",
              "      </button>\n",
              "      \n",
              "  <style>\n",
              "    .colab-df-container {\n",
              "      display:flex;\n",
              "      flex-wrap:wrap;\n",
              "      gap: 12px;\n",
              "    }\n",
              "\n",
              "    .colab-df-convert {\n",
              "      background-color: #E8F0FE;\n",
              "      border: none;\n",
              "      border-radius: 50%;\n",
              "      cursor: pointer;\n",
              "      display: none;\n",
              "      fill: #1967D2;\n",
              "      height: 32px;\n",
              "      padding: 0 0 0 0;\n",
              "      width: 32px;\n",
              "    }\n",
              "\n",
              "    .colab-df-convert:hover {\n",
              "      background-color: #E2EBFA;\n",
              "      box-shadow: 0px 1px 2px rgba(60, 64, 67, 0.3), 0px 1px 3px 1px rgba(60, 64, 67, 0.15);\n",
              "      fill: #174EA6;\n",
              "    }\n",
              "\n",
              "    [theme=dark] .colab-df-convert {\n",
              "      background-color: #3B4455;\n",
              "      fill: #D2E3FC;\n",
              "    }\n",
              "\n",
              "    [theme=dark] .colab-df-convert:hover {\n",
              "      background-color: #434B5C;\n",
              "      box-shadow: 0px 1px 3px 1px rgba(0, 0, 0, 0.15);\n",
              "      filter: drop-shadow(0px 1px 2px rgba(0, 0, 0, 0.3));\n",
              "      fill: #FFFFFF;\n",
              "    }\n",
              "  </style>\n",
              "\n",
              "      <script>\n",
              "        const buttonEl =\n",
              "          document.querySelector('#df-0dbf18d9-c113-45e1-8e81-c7bb6e2084f5 button.colab-df-convert');\n",
              "        buttonEl.style.display =\n",
              "          google.colab.kernel.accessAllowed ? 'block' : 'none';\n",
              "\n",
              "        async function convertToInteractive(key) {\n",
              "          const element = document.querySelector('#df-0dbf18d9-c113-45e1-8e81-c7bb6e2084f5');\n",
              "          const dataTable =\n",
              "            await google.colab.kernel.invokeFunction('convertToInteractive',\n",
              "                                                     [key], {});\n",
              "          if (!dataTable) return;\n",
              "\n",
              "          const docLinkHtml = 'Like what you see? Visit the ' +\n",
              "            '<a target=\"_blank\" href=https://colab.research.google.com/notebooks/data_table.ipynb>data table notebook</a>'\n",
              "            + ' to learn more about interactive tables.';\n",
              "          element.innerHTML = '';\n",
              "          dataTable['output_type'] = 'display_data';\n",
              "          await google.colab.output.renderOutput(dataTable, element);\n",
              "          const docLink = document.createElement('div');\n",
              "          docLink.innerHTML = docLinkHtml;\n",
              "          element.appendChild(docLink);\n",
              "        }\n",
              "      </script>\n",
              "    </div>\n",
              "  </div>\n",
              "  "
            ]
          },
          "metadata": {},
          "execution_count": 1
        }
      ],
      "source": [
        "import pandas as pd\n",
        "import numpy as np\n",
        "import matplotlib.pyplot as plt\n",
        "df = pd.read_csv('https://raw.githubusercontent.com/ajmdz/CSELEC_2-3/master/CSELEC2/data/Melbourne_housing_FULL.csv', parse_dates=['Date'])\n",
        "df.head()"
      ]
    },
    {
      "cell_type": "code",
      "source": [
        "df.tail()"
      ],
      "metadata": {
        "colab": {
          "base_uri": "https://localhost:8080/",
          "height": 403
        },
        "id": "1xJ4H7frL7NA",
        "outputId": "14747d00-4013-4e4f-9bc1-def5855c99ff"
      },
      "id": "1xJ4H7frL7NA",
      "execution_count": 2,
      "outputs": [
        {
          "output_type": "execute_result",
          "data": {
            "text/plain": [
              "           Suburb           Address  Rooms Type      Price Method  \\\n",
              "34852  Yarraville       13 Burns St      4    h  1480000.0     PI   \n",
              "34853  Yarraville     29A Murray St      2    h   888000.0     SP   \n",
              "34854  Yarraville    147A Severn St      2    t   705000.0      S   \n",
              "34855  Yarraville  12/37 Stephen St      3    h  1140000.0     SP   \n",
              "34856  Yarraville  3 Tarrengower St      2    h  1020000.0     PI   \n",
              "\n",
              "             SellerG       Date  Distance  Postcode  ...  Bathroom  Car  \\\n",
              "34852            Jas 2018-02-24       6.3    3013.0  ...       1.0  3.0   \n",
              "34853        Sweeney 2018-02-24       6.3    3013.0  ...       2.0  1.0   \n",
              "34854            Jas 2018-02-24       6.3    3013.0  ...       1.0  2.0   \n",
              "34855  hockingstuart 2018-02-24       6.3    3013.0  ...       NaN  NaN   \n",
              "34856             RW 2018-02-24       6.3    3013.0  ...       1.0  0.0   \n",
              "\n",
              "       Landsize  BuildingArea  YearBuilt               CouncilArea Lattitude  \\\n",
              "34852     593.0           NaN        NaN  Maribyrnong City Council -37.81053   \n",
              "34853      98.0         104.0     2018.0  Maribyrnong City Council -37.81551   \n",
              "34854     220.0         120.0     2000.0  Maribyrnong City Council -37.82286   \n",
              "34855       NaN           NaN        NaN  Maribyrnong City Council       NaN   \n",
              "34856     250.0         103.0     1930.0  Maribyrnong City Council -37.81810   \n",
              "\n",
              "       Longtitude            Regionname Propertycount  \n",
              "34852   144.88467  Western Metropolitan        6543.0  \n",
              "34853   144.88826  Western Metropolitan        6543.0  \n",
              "34854   144.87856  Western Metropolitan        6543.0  \n",
              "34855         NaN  Western Metropolitan        6543.0  \n",
              "34856   144.89351  Western Metropolitan        6543.0  \n",
              "\n",
              "[5 rows x 21 columns]"
            ],
            "text/html": [
              "\n",
              "  <div id=\"df-16c60dca-2b90-4527-806f-f75ec2d55e98\">\n",
              "    <div class=\"colab-df-container\">\n",
              "      <div>\n",
              "<style scoped>\n",
              "    .dataframe tbody tr th:only-of-type {\n",
              "        vertical-align: middle;\n",
              "    }\n",
              "\n",
              "    .dataframe tbody tr th {\n",
              "        vertical-align: top;\n",
              "    }\n",
              "\n",
              "    .dataframe thead th {\n",
              "        text-align: right;\n",
              "    }\n",
              "</style>\n",
              "<table border=\"1\" class=\"dataframe\">\n",
              "  <thead>\n",
              "    <tr style=\"text-align: right;\">\n",
              "      <th></th>\n",
              "      <th>Suburb</th>\n",
              "      <th>Address</th>\n",
              "      <th>Rooms</th>\n",
              "      <th>Type</th>\n",
              "      <th>Price</th>\n",
              "      <th>Method</th>\n",
              "      <th>SellerG</th>\n",
              "      <th>Date</th>\n",
              "      <th>Distance</th>\n",
              "      <th>Postcode</th>\n",
              "      <th>...</th>\n",
              "      <th>Bathroom</th>\n",
              "      <th>Car</th>\n",
              "      <th>Landsize</th>\n",
              "      <th>BuildingArea</th>\n",
              "      <th>YearBuilt</th>\n",
              "      <th>CouncilArea</th>\n",
              "      <th>Lattitude</th>\n",
              "      <th>Longtitude</th>\n",
              "      <th>Regionname</th>\n",
              "      <th>Propertycount</th>\n",
              "    </tr>\n",
              "  </thead>\n",
              "  <tbody>\n",
              "    <tr>\n",
              "      <th>34852</th>\n",
              "      <td>Yarraville</td>\n",
              "      <td>13 Burns St</td>\n",
              "      <td>4</td>\n",
              "      <td>h</td>\n",
              "      <td>1480000.0</td>\n",
              "      <td>PI</td>\n",
              "      <td>Jas</td>\n",
              "      <td>2018-02-24</td>\n",
              "      <td>6.3</td>\n",
              "      <td>3013.0</td>\n",
              "      <td>...</td>\n",
              "      <td>1.0</td>\n",
              "      <td>3.0</td>\n",
              "      <td>593.0</td>\n",
              "      <td>NaN</td>\n",
              "      <td>NaN</td>\n",
              "      <td>Maribyrnong City Council</td>\n",
              "      <td>-37.81053</td>\n",
              "      <td>144.88467</td>\n",
              "      <td>Western Metropolitan</td>\n",
              "      <td>6543.0</td>\n",
              "    </tr>\n",
              "    <tr>\n",
              "      <th>34853</th>\n",
              "      <td>Yarraville</td>\n",
              "      <td>29A Murray St</td>\n",
              "      <td>2</td>\n",
              "      <td>h</td>\n",
              "      <td>888000.0</td>\n",
              "      <td>SP</td>\n",
              "      <td>Sweeney</td>\n",
              "      <td>2018-02-24</td>\n",
              "      <td>6.3</td>\n",
              "      <td>3013.0</td>\n",
              "      <td>...</td>\n",
              "      <td>2.0</td>\n",
              "      <td>1.0</td>\n",
              "      <td>98.0</td>\n",
              "      <td>104.0</td>\n",
              "      <td>2018.0</td>\n",
              "      <td>Maribyrnong City Council</td>\n",
              "      <td>-37.81551</td>\n",
              "      <td>144.88826</td>\n",
              "      <td>Western Metropolitan</td>\n",
              "      <td>6543.0</td>\n",
              "    </tr>\n",
              "    <tr>\n",
              "      <th>34854</th>\n",
              "      <td>Yarraville</td>\n",
              "      <td>147A Severn St</td>\n",
              "      <td>2</td>\n",
              "      <td>t</td>\n",
              "      <td>705000.0</td>\n",
              "      <td>S</td>\n",
              "      <td>Jas</td>\n",
              "      <td>2018-02-24</td>\n",
              "      <td>6.3</td>\n",
              "      <td>3013.0</td>\n",
              "      <td>...</td>\n",
              "      <td>1.0</td>\n",
              "      <td>2.0</td>\n",
              "      <td>220.0</td>\n",
              "      <td>120.0</td>\n",
              "      <td>2000.0</td>\n",
              "      <td>Maribyrnong City Council</td>\n",
              "      <td>-37.82286</td>\n",
              "      <td>144.87856</td>\n",
              "      <td>Western Metropolitan</td>\n",
              "      <td>6543.0</td>\n",
              "    </tr>\n",
              "    <tr>\n",
              "      <th>34855</th>\n",
              "      <td>Yarraville</td>\n",
              "      <td>12/37 Stephen St</td>\n",
              "      <td>3</td>\n",
              "      <td>h</td>\n",
              "      <td>1140000.0</td>\n",
              "      <td>SP</td>\n",
              "      <td>hockingstuart</td>\n",
              "      <td>2018-02-24</td>\n",
              "      <td>6.3</td>\n",
              "      <td>3013.0</td>\n",
              "      <td>...</td>\n",
              "      <td>NaN</td>\n",
              "      <td>NaN</td>\n",
              "      <td>NaN</td>\n",
              "      <td>NaN</td>\n",
              "      <td>NaN</td>\n",
              "      <td>Maribyrnong City Council</td>\n",
              "      <td>NaN</td>\n",
              "      <td>NaN</td>\n",
              "      <td>Western Metropolitan</td>\n",
              "      <td>6543.0</td>\n",
              "    </tr>\n",
              "    <tr>\n",
              "      <th>34856</th>\n",
              "      <td>Yarraville</td>\n",
              "      <td>3 Tarrengower St</td>\n",
              "      <td>2</td>\n",
              "      <td>h</td>\n",
              "      <td>1020000.0</td>\n",
              "      <td>PI</td>\n",
              "      <td>RW</td>\n",
              "      <td>2018-02-24</td>\n",
              "      <td>6.3</td>\n",
              "      <td>3013.0</td>\n",
              "      <td>...</td>\n",
              "      <td>1.0</td>\n",
              "      <td>0.0</td>\n",
              "      <td>250.0</td>\n",
              "      <td>103.0</td>\n",
              "      <td>1930.0</td>\n",
              "      <td>Maribyrnong City Council</td>\n",
              "      <td>-37.81810</td>\n",
              "      <td>144.89351</td>\n",
              "      <td>Western Metropolitan</td>\n",
              "      <td>6543.0</td>\n",
              "    </tr>\n",
              "  </tbody>\n",
              "</table>\n",
              "<p>5 rows × 21 columns</p>\n",
              "</div>\n",
              "      <button class=\"colab-df-convert\" onclick=\"convertToInteractive('df-16c60dca-2b90-4527-806f-f75ec2d55e98')\"\n",
              "              title=\"Convert this dataframe to an interactive table.\"\n",
              "              style=\"display:none;\">\n",
              "        \n",
              "  <svg xmlns=\"http://www.w3.org/2000/svg\" height=\"24px\"viewBox=\"0 0 24 24\"\n",
              "       width=\"24px\">\n",
              "    <path d=\"M0 0h24v24H0V0z\" fill=\"none\"/>\n",
              "    <path d=\"M18.56 5.44l.94 2.06.94-2.06 2.06-.94-2.06-.94-.94-2.06-.94 2.06-2.06.94zm-11 1L8.5 8.5l.94-2.06 2.06-.94-2.06-.94L8.5 2.5l-.94 2.06-2.06.94zm10 10l.94 2.06.94-2.06 2.06-.94-2.06-.94-.94-2.06-.94 2.06-2.06.94z\"/><path d=\"M17.41 7.96l-1.37-1.37c-.4-.4-.92-.59-1.43-.59-.52 0-1.04.2-1.43.59L10.3 9.45l-7.72 7.72c-.78.78-.78 2.05 0 2.83L4 21.41c.39.39.9.59 1.41.59.51 0 1.02-.2 1.41-.59l7.78-7.78 2.81-2.81c.8-.78.8-2.07 0-2.86zM5.41 20L4 18.59l7.72-7.72 1.47 1.35L5.41 20z\"/>\n",
              "  </svg>\n",
              "      </button>\n",
              "      \n",
              "  <style>\n",
              "    .colab-df-container {\n",
              "      display:flex;\n",
              "      flex-wrap:wrap;\n",
              "      gap: 12px;\n",
              "    }\n",
              "\n",
              "    .colab-df-convert {\n",
              "      background-color: #E8F0FE;\n",
              "      border: none;\n",
              "      border-radius: 50%;\n",
              "      cursor: pointer;\n",
              "      display: none;\n",
              "      fill: #1967D2;\n",
              "      height: 32px;\n",
              "      padding: 0 0 0 0;\n",
              "      width: 32px;\n",
              "    }\n",
              "\n",
              "    .colab-df-convert:hover {\n",
              "      background-color: #E2EBFA;\n",
              "      box-shadow: 0px 1px 2px rgba(60, 64, 67, 0.3), 0px 1px 3px 1px rgba(60, 64, 67, 0.15);\n",
              "      fill: #174EA6;\n",
              "    }\n",
              "\n",
              "    [theme=dark] .colab-df-convert {\n",
              "      background-color: #3B4455;\n",
              "      fill: #D2E3FC;\n",
              "    }\n",
              "\n",
              "    [theme=dark] .colab-df-convert:hover {\n",
              "      background-color: #434B5C;\n",
              "      box-shadow: 0px 1px 3px 1px rgba(0, 0, 0, 0.15);\n",
              "      filter: drop-shadow(0px 1px 2px rgba(0, 0, 0, 0.3));\n",
              "      fill: #FFFFFF;\n",
              "    }\n",
              "  </style>\n",
              "\n",
              "      <script>\n",
              "        const buttonEl =\n",
              "          document.querySelector('#df-16c60dca-2b90-4527-806f-f75ec2d55e98 button.colab-df-convert');\n",
              "        buttonEl.style.display =\n",
              "          google.colab.kernel.accessAllowed ? 'block' : 'none';\n",
              "\n",
              "        async function convertToInteractive(key) {\n",
              "          const element = document.querySelector('#df-16c60dca-2b90-4527-806f-f75ec2d55e98');\n",
              "          const dataTable =\n",
              "            await google.colab.kernel.invokeFunction('convertToInteractive',\n",
              "                                                     [key], {});\n",
              "          if (!dataTable) return;\n",
              "\n",
              "          const docLinkHtml = 'Like what you see? Visit the ' +\n",
              "            '<a target=\"_blank\" href=https://colab.research.google.com/notebooks/data_table.ipynb>data table notebook</a>'\n",
              "            + ' to learn more about interactive tables.';\n",
              "          element.innerHTML = '';\n",
              "          dataTable['output_type'] = 'display_data';\n",
              "          await google.colab.output.renderOutput(dataTable, element);\n",
              "          const docLink = document.createElement('div');\n",
              "          docLink.innerHTML = docLinkHtml;\n",
              "          element.appendChild(docLink);\n",
              "        }\n",
              "      </script>\n",
              "    </div>\n",
              "  </div>\n",
              "  "
            ]
          },
          "metadata": {},
          "execution_count": 2
        }
      ]
    },
    {
      "cell_type": "markdown",
      "id": "f2b8e0db",
      "metadata": {
        "id": "f2b8e0db"
      },
      "source": [
        "## PREPROCESSING"
      ]
    },
    {
      "cell_type": "code",
      "execution_count": 3,
      "id": "9767faef",
      "metadata": {
        "id": "9767faef",
        "outputId": "6e7767c8-f944-433c-8c37-909537a7df61",
        "colab": {
          "base_uri": "https://localhost:8080/"
        }
      },
      "outputs": [
        {
          "output_type": "execute_result",
          "data": {
            "text/plain": [
              "(34857, 21)"
            ]
          },
          "metadata": {},
          "execution_count": 3
        }
      ],
      "source": [
        "df.shape"
      ]
    },
    {
      "cell_type": "code",
      "execution_count": 4,
      "id": "c17584a2",
      "metadata": {
        "id": "c17584a2",
        "outputId": "75197f1a-d2ec-4ecc-8aae-469a4647109f",
        "colab": {
          "base_uri": "https://localhost:8080/",
          "height": 364
        }
      },
      "outputs": [
        {
          "output_type": "execute_result",
          "data": {
            "text/plain": [
              "              Rooms         Price      Distance      Postcode      Bedroom2  \\\n",
              "count  34857.000000  2.724700e+04  34856.000000  34856.000000  26640.000000   \n",
              "mean       3.031012  1.050173e+06     11.184929   3116.062859      3.084647   \n",
              "std        0.969933  6.414671e+05      6.788892    109.023903      0.980690   \n",
              "min        1.000000  8.500000e+04      0.000000   3000.000000      0.000000   \n",
              "25%        2.000000  6.350000e+05      6.400000   3051.000000      2.000000   \n",
              "50%        3.000000  8.700000e+05     10.300000   3103.000000      3.000000   \n",
              "75%        4.000000  1.295000e+06     14.000000   3156.000000      4.000000   \n",
              "max       16.000000  1.120000e+07     48.100000   3978.000000     30.000000   \n",
              "\n",
              "           Bathroom           Car       Landsize  BuildingArea     YearBuilt  \\\n",
              "count  26631.000000  26129.000000   23047.000000   13742.00000  15551.000000   \n",
              "mean       1.624798      1.728845     593.598993     160.25640   1965.289885   \n",
              "std        0.724212      1.010771    3398.841946     401.26706     37.328178   \n",
              "min        0.000000      0.000000       0.000000       0.00000   1196.000000   \n",
              "25%        1.000000      1.000000     224.000000     102.00000   1940.000000   \n",
              "50%        2.000000      2.000000     521.000000     136.00000   1970.000000   \n",
              "75%        2.000000      2.000000     670.000000     188.00000   2000.000000   \n",
              "max       12.000000     26.000000  433014.000000   44515.00000   2106.000000   \n",
              "\n",
              "          Lattitude    Longtitude  Propertycount  \n",
              "count  26881.000000  26881.000000   34854.000000  \n",
              "mean     -37.810634    145.001851    7572.888306  \n",
              "std        0.090279      0.120169    4428.090313  \n",
              "min      -38.190430    144.423790      83.000000  \n",
              "25%      -37.862950    144.933500    4385.000000  \n",
              "50%      -37.807600    145.007800    6763.000000  \n",
              "75%      -37.754100    145.071900   10412.000000  \n",
              "max      -37.390200    145.526350   21650.000000  "
            ],
            "text/html": [
              "\n",
              "  <div id=\"df-358b431e-a9d0-4b75-8e95-7ea20e524b2c\">\n",
              "    <div class=\"colab-df-container\">\n",
              "      <div>\n",
              "<style scoped>\n",
              "    .dataframe tbody tr th:only-of-type {\n",
              "        vertical-align: middle;\n",
              "    }\n",
              "\n",
              "    .dataframe tbody tr th {\n",
              "        vertical-align: top;\n",
              "    }\n",
              "\n",
              "    .dataframe thead th {\n",
              "        text-align: right;\n",
              "    }\n",
              "</style>\n",
              "<table border=\"1\" class=\"dataframe\">\n",
              "  <thead>\n",
              "    <tr style=\"text-align: right;\">\n",
              "      <th></th>\n",
              "      <th>Rooms</th>\n",
              "      <th>Price</th>\n",
              "      <th>Distance</th>\n",
              "      <th>Postcode</th>\n",
              "      <th>Bedroom2</th>\n",
              "      <th>Bathroom</th>\n",
              "      <th>Car</th>\n",
              "      <th>Landsize</th>\n",
              "      <th>BuildingArea</th>\n",
              "      <th>YearBuilt</th>\n",
              "      <th>Lattitude</th>\n",
              "      <th>Longtitude</th>\n",
              "      <th>Propertycount</th>\n",
              "    </tr>\n",
              "  </thead>\n",
              "  <tbody>\n",
              "    <tr>\n",
              "      <th>count</th>\n",
              "      <td>34857.000000</td>\n",
              "      <td>2.724700e+04</td>\n",
              "      <td>34856.000000</td>\n",
              "      <td>34856.000000</td>\n",
              "      <td>26640.000000</td>\n",
              "      <td>26631.000000</td>\n",
              "      <td>26129.000000</td>\n",
              "      <td>23047.000000</td>\n",
              "      <td>13742.00000</td>\n",
              "      <td>15551.000000</td>\n",
              "      <td>26881.000000</td>\n",
              "      <td>26881.000000</td>\n",
              "      <td>34854.000000</td>\n",
              "    </tr>\n",
              "    <tr>\n",
              "      <th>mean</th>\n",
              "      <td>3.031012</td>\n",
              "      <td>1.050173e+06</td>\n",
              "      <td>11.184929</td>\n",
              "      <td>3116.062859</td>\n",
              "      <td>3.084647</td>\n",
              "      <td>1.624798</td>\n",
              "      <td>1.728845</td>\n",
              "      <td>593.598993</td>\n",
              "      <td>160.25640</td>\n",
              "      <td>1965.289885</td>\n",
              "      <td>-37.810634</td>\n",
              "      <td>145.001851</td>\n",
              "      <td>7572.888306</td>\n",
              "    </tr>\n",
              "    <tr>\n",
              "      <th>std</th>\n",
              "      <td>0.969933</td>\n",
              "      <td>6.414671e+05</td>\n",
              "      <td>6.788892</td>\n",
              "      <td>109.023903</td>\n",
              "      <td>0.980690</td>\n",
              "      <td>0.724212</td>\n",
              "      <td>1.010771</td>\n",
              "      <td>3398.841946</td>\n",
              "      <td>401.26706</td>\n",
              "      <td>37.328178</td>\n",
              "      <td>0.090279</td>\n",
              "      <td>0.120169</td>\n",
              "      <td>4428.090313</td>\n",
              "    </tr>\n",
              "    <tr>\n",
              "      <th>min</th>\n",
              "      <td>1.000000</td>\n",
              "      <td>8.500000e+04</td>\n",
              "      <td>0.000000</td>\n",
              "      <td>3000.000000</td>\n",
              "      <td>0.000000</td>\n",
              "      <td>0.000000</td>\n",
              "      <td>0.000000</td>\n",
              "      <td>0.000000</td>\n",
              "      <td>0.00000</td>\n",
              "      <td>1196.000000</td>\n",
              "      <td>-38.190430</td>\n",
              "      <td>144.423790</td>\n",
              "      <td>83.000000</td>\n",
              "    </tr>\n",
              "    <tr>\n",
              "      <th>25%</th>\n",
              "      <td>2.000000</td>\n",
              "      <td>6.350000e+05</td>\n",
              "      <td>6.400000</td>\n",
              "      <td>3051.000000</td>\n",
              "      <td>2.000000</td>\n",
              "      <td>1.000000</td>\n",
              "      <td>1.000000</td>\n",
              "      <td>224.000000</td>\n",
              "      <td>102.00000</td>\n",
              "      <td>1940.000000</td>\n",
              "      <td>-37.862950</td>\n",
              "      <td>144.933500</td>\n",
              "      <td>4385.000000</td>\n",
              "    </tr>\n",
              "    <tr>\n",
              "      <th>50%</th>\n",
              "      <td>3.000000</td>\n",
              "      <td>8.700000e+05</td>\n",
              "      <td>10.300000</td>\n",
              "      <td>3103.000000</td>\n",
              "      <td>3.000000</td>\n",
              "      <td>2.000000</td>\n",
              "      <td>2.000000</td>\n",
              "      <td>521.000000</td>\n",
              "      <td>136.00000</td>\n",
              "      <td>1970.000000</td>\n",
              "      <td>-37.807600</td>\n",
              "      <td>145.007800</td>\n",
              "      <td>6763.000000</td>\n",
              "    </tr>\n",
              "    <tr>\n",
              "      <th>75%</th>\n",
              "      <td>4.000000</td>\n",
              "      <td>1.295000e+06</td>\n",
              "      <td>14.000000</td>\n",
              "      <td>3156.000000</td>\n",
              "      <td>4.000000</td>\n",
              "      <td>2.000000</td>\n",
              "      <td>2.000000</td>\n",
              "      <td>670.000000</td>\n",
              "      <td>188.00000</td>\n",
              "      <td>2000.000000</td>\n",
              "      <td>-37.754100</td>\n",
              "      <td>145.071900</td>\n",
              "      <td>10412.000000</td>\n",
              "    </tr>\n",
              "    <tr>\n",
              "      <th>max</th>\n",
              "      <td>16.000000</td>\n",
              "      <td>1.120000e+07</td>\n",
              "      <td>48.100000</td>\n",
              "      <td>3978.000000</td>\n",
              "      <td>30.000000</td>\n",
              "      <td>12.000000</td>\n",
              "      <td>26.000000</td>\n",
              "      <td>433014.000000</td>\n",
              "      <td>44515.00000</td>\n",
              "      <td>2106.000000</td>\n",
              "      <td>-37.390200</td>\n",
              "      <td>145.526350</td>\n",
              "      <td>21650.000000</td>\n",
              "    </tr>\n",
              "  </tbody>\n",
              "</table>\n",
              "</div>\n",
              "      <button class=\"colab-df-convert\" onclick=\"convertToInteractive('df-358b431e-a9d0-4b75-8e95-7ea20e524b2c')\"\n",
              "              title=\"Convert this dataframe to an interactive table.\"\n",
              "              style=\"display:none;\">\n",
              "        \n",
              "  <svg xmlns=\"http://www.w3.org/2000/svg\" height=\"24px\"viewBox=\"0 0 24 24\"\n",
              "       width=\"24px\">\n",
              "    <path d=\"M0 0h24v24H0V0z\" fill=\"none\"/>\n",
              "    <path d=\"M18.56 5.44l.94 2.06.94-2.06 2.06-.94-2.06-.94-.94-2.06-.94 2.06-2.06.94zm-11 1L8.5 8.5l.94-2.06 2.06-.94-2.06-.94L8.5 2.5l-.94 2.06-2.06.94zm10 10l.94 2.06.94-2.06 2.06-.94-2.06-.94-.94-2.06-.94 2.06-2.06.94z\"/><path d=\"M17.41 7.96l-1.37-1.37c-.4-.4-.92-.59-1.43-.59-.52 0-1.04.2-1.43.59L10.3 9.45l-7.72 7.72c-.78.78-.78 2.05 0 2.83L4 21.41c.39.39.9.59 1.41.59.51 0 1.02-.2 1.41-.59l7.78-7.78 2.81-2.81c.8-.78.8-2.07 0-2.86zM5.41 20L4 18.59l7.72-7.72 1.47 1.35L5.41 20z\"/>\n",
              "  </svg>\n",
              "      </button>\n",
              "      \n",
              "  <style>\n",
              "    .colab-df-container {\n",
              "      display:flex;\n",
              "      flex-wrap:wrap;\n",
              "      gap: 12px;\n",
              "    }\n",
              "\n",
              "    .colab-df-convert {\n",
              "      background-color: #E8F0FE;\n",
              "      border: none;\n",
              "      border-radius: 50%;\n",
              "      cursor: pointer;\n",
              "      display: none;\n",
              "      fill: #1967D2;\n",
              "      height: 32px;\n",
              "      padding: 0 0 0 0;\n",
              "      width: 32px;\n",
              "    }\n",
              "\n",
              "    .colab-df-convert:hover {\n",
              "      background-color: #E2EBFA;\n",
              "      box-shadow: 0px 1px 2px rgba(60, 64, 67, 0.3), 0px 1px 3px 1px rgba(60, 64, 67, 0.15);\n",
              "      fill: #174EA6;\n",
              "    }\n",
              "\n",
              "    [theme=dark] .colab-df-convert {\n",
              "      background-color: #3B4455;\n",
              "      fill: #D2E3FC;\n",
              "    }\n",
              "\n",
              "    [theme=dark] .colab-df-convert:hover {\n",
              "      background-color: #434B5C;\n",
              "      box-shadow: 0px 1px 3px 1px rgba(0, 0, 0, 0.15);\n",
              "      filter: drop-shadow(0px 1px 2px rgba(0, 0, 0, 0.3));\n",
              "      fill: #FFFFFF;\n",
              "    }\n",
              "  </style>\n",
              "\n",
              "      <script>\n",
              "        const buttonEl =\n",
              "          document.querySelector('#df-358b431e-a9d0-4b75-8e95-7ea20e524b2c button.colab-df-convert');\n",
              "        buttonEl.style.display =\n",
              "          google.colab.kernel.accessAllowed ? 'block' : 'none';\n",
              "\n",
              "        async function convertToInteractive(key) {\n",
              "          const element = document.querySelector('#df-358b431e-a9d0-4b75-8e95-7ea20e524b2c');\n",
              "          const dataTable =\n",
              "            await google.colab.kernel.invokeFunction('convertToInteractive',\n",
              "                                                     [key], {});\n",
              "          if (!dataTable) return;\n",
              "\n",
              "          const docLinkHtml = 'Like what you see? Visit the ' +\n",
              "            '<a target=\"_blank\" href=https://colab.research.google.com/notebooks/data_table.ipynb>data table notebook</a>'\n",
              "            + ' to learn more about interactive tables.';\n",
              "          element.innerHTML = '';\n",
              "          dataTable['output_type'] = 'display_data';\n",
              "          await google.colab.output.renderOutput(dataTable, element);\n",
              "          const docLink = document.createElement('div');\n",
              "          docLink.innerHTML = docLinkHtml;\n",
              "          element.appendChild(docLink);\n",
              "        }\n",
              "      </script>\n",
              "    </div>\n",
              "  </div>\n",
              "  "
            ]
          },
          "metadata": {},
          "execution_count": 4
        }
      ],
      "source": [
        "df.describe()"
      ]
    },
    {
      "cell_type": "code",
      "execution_count": 5,
      "id": "4e6eb5f3",
      "metadata": {
        "id": "4e6eb5f3",
        "outputId": "180aba1d-9674-4cd5-8a70-bc7c1dbc9984",
        "colab": {
          "base_uri": "https://localhost:8080/"
        }
      },
      "outputs": [
        {
          "output_type": "stream",
          "name": "stdout",
          "text": [
            "<class 'pandas.core.frame.DataFrame'>\n",
            "RangeIndex: 34857 entries, 0 to 34856\n",
            "Data columns (total 21 columns):\n",
            " #   Column         Non-Null Count  Dtype         \n",
            "---  ------         --------------  -----         \n",
            " 0   Suburb         34857 non-null  object        \n",
            " 1   Address        34857 non-null  object        \n",
            " 2   Rooms          34857 non-null  int64         \n",
            " 3   Type           34857 non-null  object        \n",
            " 4   Price          27247 non-null  float64       \n",
            " 5   Method         34857 non-null  object        \n",
            " 6   SellerG        34857 non-null  object        \n",
            " 7   Date           34857 non-null  datetime64[ns]\n",
            " 8   Distance       34856 non-null  float64       \n",
            " 9   Postcode       34856 non-null  float64       \n",
            " 10  Bedroom2       26640 non-null  float64       \n",
            " 11  Bathroom       26631 non-null  float64       \n",
            " 12  Car            26129 non-null  float64       \n",
            " 13  Landsize       23047 non-null  float64       \n",
            " 14  BuildingArea   13742 non-null  float64       \n",
            " 15  YearBuilt      15551 non-null  float64       \n",
            " 16  CouncilArea    34854 non-null  object        \n",
            " 17  Lattitude      26881 non-null  float64       \n",
            " 18  Longtitude     26881 non-null  float64       \n",
            " 19  Regionname     34854 non-null  object        \n",
            " 20  Propertycount  34854 non-null  float64       \n",
            "dtypes: datetime64[ns](1), float64(12), int64(1), object(7)\n",
            "memory usage: 5.6+ MB\n"
          ]
        }
      ],
      "source": [
        "df.info()"
      ]
    },
    {
      "cell_type": "markdown",
      "source": [
        "Rename columns with typos"
      ],
      "metadata": {
        "id": "Mg9Q-pEklgrf"
      },
      "id": "Mg9Q-pEklgrf"
    },
    {
      "cell_type": "code",
      "source": [
        "new_colnames = {\n",
        "    'Lattitude' : 'Latitude',\n",
        "    'Longtitude' : 'Longitude'\n",
        "}\n",
        "df = df.rename(columns = new_colnames)\n",
        "df.columns"
      ],
      "metadata": {
        "colab": {
          "base_uri": "https://localhost:8080/"
        },
        "id": "9ZBG3uF7lCM4",
        "outputId": "900ea93a-9303-4c41-b5f0-bdd88ae82a7f"
      },
      "id": "9ZBG3uF7lCM4",
      "execution_count": 6,
      "outputs": [
        {
          "output_type": "execute_result",
          "data": {
            "text/plain": [
              "Index(['Suburb', 'Address', 'Rooms', 'Type', 'Price', 'Method', 'SellerG',\n",
              "       'Date', 'Distance', 'Postcode', 'Bedroom2', 'Bathroom', 'Car',\n",
              "       'Landsize', 'BuildingArea', 'YearBuilt', 'CouncilArea', 'Latitude',\n",
              "       'Longitude', 'Regionname', 'Propertycount'],\n",
              "      dtype='object')"
            ]
          },
          "metadata": {},
          "execution_count": 6
        }
      ]
    },
    {
      "cell_type": "markdown",
      "source": [
        "Convert certain columns to categorical"
      ],
      "metadata": {
        "id": "6n5qP7mXdUaN"
      },
      "id": "6n5qP7mXdUaN"
    },
    {
      "cell_type": "code",
      "source": [
        "to_categorical = list(df.select_dtypes(['object']).columns) + ['Postcode', 'CouncilArea', 'YearBuilt']\n",
        "for col in to_categorical:\n",
        "  df[col] = df[col].astype('category')  \n",
        "df.dtypes"
      ],
      "metadata": {
        "colab": {
          "base_uri": "https://localhost:8080/"
        },
        "id": "e2SbogSfcSAO",
        "outputId": "567bc6a2-edff-4317-d13a-f8339e1b3877"
      },
      "id": "e2SbogSfcSAO",
      "execution_count": 7,
      "outputs": [
        {
          "output_type": "execute_result",
          "data": {
            "text/plain": [
              "Suburb                 category\n",
              "Address                category\n",
              "Rooms                     int64\n",
              "Type                   category\n",
              "Price                   float64\n",
              "Method                 category\n",
              "SellerG                category\n",
              "Date             datetime64[ns]\n",
              "Distance                float64\n",
              "Postcode               category\n",
              "Bedroom2                float64\n",
              "Bathroom                float64\n",
              "Car                     float64\n",
              "Landsize                float64\n",
              "BuildingArea            float64\n",
              "YearBuilt              category\n",
              "CouncilArea            category\n",
              "Latitude                float64\n",
              "Longitude               float64\n",
              "Regionname             category\n",
              "Propertycount           float64\n",
              "dtype: object"
            ]
          },
          "metadata": {},
          "execution_count": 7
        }
      ]
    },
    {
      "cell_type": "markdown",
      "id": "cc226ff2",
      "metadata": {
        "id": "cc226ff2"
      },
      "source": [
        "Checking for NA values in each column"
      ]
    },
    {
      "cell_type": "code",
      "execution_count": 8,
      "id": "f9a663b2",
      "metadata": {
        "id": "f9a663b2",
        "outputId": "1bf8a56e-a4e5-468a-e70d-cb903a7b0c97",
        "colab": {
          "base_uri": "https://localhost:8080/"
        }
      },
      "outputs": [
        {
          "output_type": "execute_result",
          "data": {
            "text/plain": [
              "BuildingArea     21115\n",
              "YearBuilt        19306\n",
              "Landsize         11810\n",
              "Car               8728\n",
              "Bathroom          8226\n",
              "Bedroom2          8217\n",
              "Longitude         7976\n",
              "Latitude          7976\n",
              "Price             7610\n",
              "Regionname           3\n",
              "CouncilArea          3\n",
              "Propertycount        3\n",
              "Postcode             1\n",
              "Distance             1\n",
              "Address              0\n",
              "Date                 0\n",
              "SellerG              0\n",
              "Method               0\n",
              "Type                 0\n",
              "Rooms                0\n",
              "Suburb               0\n",
              "dtype: int64"
            ]
          },
          "metadata": {},
          "execution_count": 8
        }
      ],
      "source": [
        "df.isna().sum().sort_values(ascending=False)"
      ]
    },
    {
      "cell_type": "code",
      "source": [
        "df.isna().mean().sort_values(ascending=False)"
      ],
      "metadata": {
        "colab": {
          "base_uri": "https://localhost:8080/"
        },
        "id": "GAvD7iwqy_VT",
        "outputId": "8b7e8906-d836-4d43-b074-650e3b187d0b"
      },
      "id": "GAvD7iwqy_VT",
      "execution_count": 9,
      "outputs": [
        {
          "output_type": "execute_result",
          "data": {
            "text/plain": [
              "BuildingArea     0.605761\n",
              "YearBuilt        0.553863\n",
              "Landsize         0.338813\n",
              "Car              0.250394\n",
              "Bathroom         0.235993\n",
              "Bedroom2         0.235735\n",
              "Longitude        0.228821\n",
              "Latitude         0.228821\n",
              "Price            0.218321\n",
              "Regionname       0.000086\n",
              "CouncilArea      0.000086\n",
              "Propertycount    0.000086\n",
              "Postcode         0.000029\n",
              "Distance         0.000029\n",
              "Address          0.000000\n",
              "Date             0.000000\n",
              "SellerG          0.000000\n",
              "Method           0.000000\n",
              "Type             0.000000\n",
              "Rooms            0.000000\n",
              "Suburb           0.000000\n",
              "dtype: float64"
            ]
          },
          "metadata": {},
          "execution_count": 9
        }
      ]
    },
    {
      "cell_type": "code",
      "source": [
        "df = df.drop(['Bedroom2'], axis=1)"
      ],
      "metadata": {
        "id": "e3JBjYXpB4Wy"
      },
      "id": "e3JBjYXpB4Wy",
      "execution_count": 10,
      "outputs": []
    },
    {
      "cell_type": "markdown",
      "source": [
        "Drop duplicates"
      ],
      "metadata": {
        "id": "-GLVauBfAsNi"
      },
      "id": "-GLVauBfAsNi"
    },
    {
      "cell_type": "code",
      "source": [
        "df = df.drop_duplicates()\n",
        "df.shape"
      ],
      "metadata": {
        "colab": {
          "base_uri": "https://localhost:8080/"
        },
        "id": "kl2pn9AVAq6N",
        "outputId": "5636cd7b-5728-4325-f100-a71ba181a751"
      },
      "id": "kl2pn9AVAq6N",
      "execution_count": 11,
      "outputs": [
        {
          "output_type": "execute_result",
          "data": {
            "text/plain": [
              "(34856, 20)"
            ]
          },
          "metadata": {},
          "execution_count": 11
        }
      ]
    },
    {
      "cell_type": "markdown",
      "source": [
        "Fill NA values in `Car` and `Bathroom` with the mean value of the entire dataset"
      ],
      "metadata": {
        "id": "WAcu8XukCYV1"
      },
      "id": "WAcu8XukCYV1"
    },
    {
      "cell_type": "code",
      "source": [
        "from math import floor\n",
        "df = df.fillna({\n",
        "    'Car': floor(df['Car'].mean()),\n",
        "    'Bathroom': floor(df['Bathroom'].mean()),\n",
        "})\n",
        "df.isna().sum().sort_values(ascending=False)"
      ],
      "metadata": {
        "colab": {
          "base_uri": "https://localhost:8080/"
        },
        "id": "Q6LZcFZHCXsN",
        "outputId": "dc5e8be4-37f9-47b3-e5a4-242fd8aeddba"
      },
      "id": "Q6LZcFZHCXsN",
      "execution_count": 12,
      "outputs": [
        {
          "output_type": "execute_result",
          "data": {
            "text/plain": [
              "BuildingArea     21115\n",
              "YearBuilt        19306\n",
              "Landsize         11810\n",
              "Longitude         7976\n",
              "Latitude          7976\n",
              "Price             7609\n",
              "Propertycount        3\n",
              "Regionname           3\n",
              "CouncilArea          3\n",
              "Distance             1\n",
              "Postcode             1\n",
              "Suburb               0\n",
              "Car                  0\n",
              "Address              0\n",
              "Date                 0\n",
              "SellerG              0\n",
              "Method               0\n",
              "Type                 0\n",
              "Rooms                0\n",
              "Bathroom             0\n",
              "dtype: int64"
            ]
          },
          "metadata": {},
          "execution_count": 12
        }
      ]
    },
    {
      "cell_type": "markdown",
      "source": [],
      "metadata": {
        "id": "nee3kX3nCXPU"
      },
      "id": "nee3kX3nCXPU"
    },
    {
      "cell_type": "markdown",
      "source": [
        "## Handle missing values in `BuildingArea`"
      ],
      "metadata": {
        "id": "NuGhSMuxmKFn"
      },
      "id": "NuGhSMuxmKFn"
    },
    {
      "cell_type": "markdown",
      "source": [
        "Check which variables are strongly correlated"
      ],
      "metadata": {
        "id": "VPZnZnJB4LgL"
      },
      "id": "VPZnZnJB4LgL"
    },
    {
      "cell_type": "code",
      "source": [
        "numerical_cols = df.select_dtypes(include=['int64', 'float64']).columns\n",
        "corr_matrix = df[numerical_cols].corr()\n",
        "building_area_corr = corr_matrix['BuildingArea'].sort_values(ascending=False)\n",
        "building_area_corr"
      ],
      "metadata": {
        "colab": {
          "base_uri": "https://localhost:8080/"
        },
        "id": "tcO12Ml-2XsC",
        "outputId": "b4661857-491e-41b8-ee63-23ebe5d5e33d"
      },
      "id": "tcO12Ml-2XsC",
      "execution_count": 13,
      "outputs": [
        {
          "output_type": "execute_result",
          "data": {
            "text/plain": [
              "BuildingArea     1.000000\n",
              "Landsize         0.354532\n",
              "Rooms            0.156231\n",
              "Bathroom         0.147554\n",
              "Car              0.104938\n",
              "Price            0.100754\n",
              "Distance         0.076295\n",
              "Latitude         0.017158\n",
              "Longitude       -0.002160\n",
              "Propertycount   -0.024516\n",
              "Name: BuildingArea, dtype: float64"
            ]
          },
          "metadata": {},
          "execution_count": 13
        }
      ]
    },
    {
      "cell_type": "markdown",
      "source": [
        "Compare `BuildingArea` spread (IQR) between suburbs"
      ],
      "metadata": {
        "id": "ZDNqJ3Pa7o8t"
      },
      "id": "ZDNqJ3Pa7o8t"
    },
    {
      "cell_type": "code",
      "source": [
        "df.groupby('Suburb')['BuildingArea'].quantile(0.75 - 0.25).sort_values(ascending=False)"
      ],
      "metadata": {
        "colab": {
          "base_uri": "https://localhost:8080/"
        },
        "id": "SXN_TlnZ3JJb",
        "outputId": "244aee17-829a-4626-c16b-36ad58ca1785"
      },
      "id": "SXN_TlnZ3JJb",
      "execution_count": 14,
      "outputs": [
        {
          "output_type": "execute_result",
          "data": {
            "text/plain": [
              "Suburb\n",
              "Deepdene          325.0\n",
              "Mickleham         300.0\n",
              "Bullengarook      283.0\n",
              "Riddells Creek    272.4\n",
              "Kooyong           267.0\n",
              "                  ...  \n",
              "Wandin North        NaN\n",
              "Werribee South      NaN\n",
              "Wildwood            NaN\n",
              "croydon             NaN\n",
              "viewbank            NaN\n",
              "Name: BuildingArea, Length: 351, dtype: float64"
            ]
          },
          "metadata": {},
          "execution_count": 14
        }
      ]
    },
    {
      "cell_type": "code",
      "source": [
        "df.groupby('Suburb')['BuildingArea'].agg([np.std, pd.Series.quantile], q=[0.25, 0.75])\\\n",
        ".rename(columns={'quantile': 'iqr'})\\\n",
        ".sort_values(by='std', ascending=False)"
      ],
      "metadata": {
        "colab": {
          "base_uri": "https://localhost:8080/",
          "height": 455
        },
        "id": "jyEcBRyyOh0b",
        "outputId": "559b1a93-986f-464b-ec16-752fa63008fb"
      },
      "id": "jyEcBRyyOh0b",
      "execution_count": 57,
      "outputs": [
        {
          "output_type": "execute_result",
          "data": {
            "text/plain": [
              "                        std     iqr\n",
              "Suburb                             \n",
              "Hampton East     910.268504  152.00\n",
              "Bulleen          640.861557  190.00\n",
              "Frankston South  569.380116  191.50\n",
              "Glen Waverley    360.119566  160.00\n",
              "Fitzroy North    297.149981  120.00\n",
              "...                     ...     ...\n",
              "Wildwood                NaN     NaN\n",
              "Wonga Park              NaN  177.00\n",
              "Yarra Glen              NaN  180.56\n",
              "croydon                 NaN     NaN\n",
              "viewbank                NaN     NaN\n",
              "\n",
              "[351 rows x 2 columns]"
            ],
            "text/html": [
              "\n",
              "  <div id=\"df-552718d7-e609-4954-aef4-7427e89bccee\">\n",
              "    <div class=\"colab-df-container\">\n",
              "      <div>\n",
              "<style scoped>\n",
              "    .dataframe tbody tr th:only-of-type {\n",
              "        vertical-align: middle;\n",
              "    }\n",
              "\n",
              "    .dataframe tbody tr th {\n",
              "        vertical-align: top;\n",
              "    }\n",
              "\n",
              "    .dataframe thead th {\n",
              "        text-align: right;\n",
              "    }\n",
              "</style>\n",
              "<table border=\"1\" class=\"dataframe\">\n",
              "  <thead>\n",
              "    <tr style=\"text-align: right;\">\n",
              "      <th></th>\n",
              "      <th>std</th>\n",
              "      <th>iqr</th>\n",
              "    </tr>\n",
              "    <tr>\n",
              "      <th>Suburb</th>\n",
              "      <th></th>\n",
              "      <th></th>\n",
              "    </tr>\n",
              "  </thead>\n",
              "  <tbody>\n",
              "    <tr>\n",
              "      <th>Hampton East</th>\n",
              "      <td>910.268504</td>\n",
              "      <td>152.00</td>\n",
              "    </tr>\n",
              "    <tr>\n",
              "      <th>Bulleen</th>\n",
              "      <td>640.861557</td>\n",
              "      <td>190.00</td>\n",
              "    </tr>\n",
              "    <tr>\n",
              "      <th>Frankston South</th>\n",
              "      <td>569.380116</td>\n",
              "      <td>191.50</td>\n",
              "    </tr>\n",
              "    <tr>\n",
              "      <th>Glen Waverley</th>\n",
              "      <td>360.119566</td>\n",
              "      <td>160.00</td>\n",
              "    </tr>\n",
              "    <tr>\n",
              "      <th>Fitzroy North</th>\n",
              "      <td>297.149981</td>\n",
              "      <td>120.00</td>\n",
              "    </tr>\n",
              "    <tr>\n",
              "      <th>...</th>\n",
              "      <td>...</td>\n",
              "      <td>...</td>\n",
              "    </tr>\n",
              "    <tr>\n",
              "      <th>Wildwood</th>\n",
              "      <td>NaN</td>\n",
              "      <td>NaN</td>\n",
              "    </tr>\n",
              "    <tr>\n",
              "      <th>Wonga Park</th>\n",
              "      <td>NaN</td>\n",
              "      <td>177.00</td>\n",
              "    </tr>\n",
              "    <tr>\n",
              "      <th>Yarra Glen</th>\n",
              "      <td>NaN</td>\n",
              "      <td>180.56</td>\n",
              "    </tr>\n",
              "    <tr>\n",
              "      <th>croydon</th>\n",
              "      <td>NaN</td>\n",
              "      <td>NaN</td>\n",
              "    </tr>\n",
              "    <tr>\n",
              "      <th>viewbank</th>\n",
              "      <td>NaN</td>\n",
              "      <td>NaN</td>\n",
              "    </tr>\n",
              "  </tbody>\n",
              "</table>\n",
              "<p>351 rows × 2 columns</p>\n",
              "</div>\n",
              "      <button class=\"colab-df-convert\" onclick=\"convertToInteractive('df-552718d7-e609-4954-aef4-7427e89bccee')\"\n",
              "              title=\"Convert this dataframe to an interactive table.\"\n",
              "              style=\"display:none;\">\n",
              "        \n",
              "  <svg xmlns=\"http://www.w3.org/2000/svg\" height=\"24px\"viewBox=\"0 0 24 24\"\n",
              "       width=\"24px\">\n",
              "    <path d=\"M0 0h24v24H0V0z\" fill=\"none\"/>\n",
              "    <path d=\"M18.56 5.44l.94 2.06.94-2.06 2.06-.94-2.06-.94-.94-2.06-.94 2.06-2.06.94zm-11 1L8.5 8.5l.94-2.06 2.06-.94-2.06-.94L8.5 2.5l-.94 2.06-2.06.94zm10 10l.94 2.06.94-2.06 2.06-.94-2.06-.94-.94-2.06-.94 2.06-2.06.94z\"/><path d=\"M17.41 7.96l-1.37-1.37c-.4-.4-.92-.59-1.43-.59-.52 0-1.04.2-1.43.59L10.3 9.45l-7.72 7.72c-.78.78-.78 2.05 0 2.83L4 21.41c.39.39.9.59 1.41.59.51 0 1.02-.2 1.41-.59l7.78-7.78 2.81-2.81c.8-.78.8-2.07 0-2.86zM5.41 20L4 18.59l7.72-7.72 1.47 1.35L5.41 20z\"/>\n",
              "  </svg>\n",
              "      </button>\n",
              "      \n",
              "  <style>\n",
              "    .colab-df-container {\n",
              "      display:flex;\n",
              "      flex-wrap:wrap;\n",
              "      gap: 12px;\n",
              "    }\n",
              "\n",
              "    .colab-df-convert {\n",
              "      background-color: #E8F0FE;\n",
              "      border: none;\n",
              "      border-radius: 50%;\n",
              "      cursor: pointer;\n",
              "      display: none;\n",
              "      fill: #1967D2;\n",
              "      height: 32px;\n",
              "      padding: 0 0 0 0;\n",
              "      width: 32px;\n",
              "    }\n",
              "\n",
              "    .colab-df-convert:hover {\n",
              "      background-color: #E2EBFA;\n",
              "      box-shadow: 0px 1px 2px rgba(60, 64, 67, 0.3), 0px 1px 3px 1px rgba(60, 64, 67, 0.15);\n",
              "      fill: #174EA6;\n",
              "    }\n",
              "\n",
              "    [theme=dark] .colab-df-convert {\n",
              "      background-color: #3B4455;\n",
              "      fill: #D2E3FC;\n",
              "    }\n",
              "\n",
              "    [theme=dark] .colab-df-convert:hover {\n",
              "      background-color: #434B5C;\n",
              "      box-shadow: 0px 1px 3px 1px rgba(0, 0, 0, 0.15);\n",
              "      filter: drop-shadow(0px 1px 2px rgba(0, 0, 0, 0.3));\n",
              "      fill: #FFFFFF;\n",
              "    }\n",
              "  </style>\n",
              "\n",
              "      <script>\n",
              "        const buttonEl =\n",
              "          document.querySelector('#df-552718d7-e609-4954-aef4-7427e89bccee button.colab-df-convert');\n",
              "        buttonEl.style.display =\n",
              "          google.colab.kernel.accessAllowed ? 'block' : 'none';\n",
              "\n",
              "        async function convertToInteractive(key) {\n",
              "          const element = document.querySelector('#df-552718d7-e609-4954-aef4-7427e89bccee');\n",
              "          const dataTable =\n",
              "            await google.colab.kernel.invokeFunction('convertToInteractive',\n",
              "                                                     [key], {});\n",
              "          if (!dataTable) return;\n",
              "\n",
              "          const docLinkHtml = 'Like what you see? Visit the ' +\n",
              "            '<a target=\"_blank\" href=https://colab.research.google.com/notebooks/data_table.ipynb>data table notebook</a>'\n",
              "            + ' to learn more about interactive tables.';\n",
              "          element.innerHTML = '';\n",
              "          dataTable['output_type'] = 'display_data';\n",
              "          await google.colab.output.renderOutput(dataTable, element);\n",
              "          const docLink = document.createElement('div');\n",
              "          docLink.innerHTML = docLinkHtml;\n",
              "          element.appendChild(docLink);\n",
              "        }\n",
              "      </script>\n",
              "    </div>\n",
              "  </div>\n",
              "  "
            ]
          },
          "metadata": {},
          "execution_count": 57
        }
      ]
    },
    {
      "cell_type": "code",
      "source": [
        "%matplotlib inline\n",
        "plt.hist(df['BuildingArea'],density=True)\n",
        "plt.yscale('log')\n",
        "plt.title('BuildingArea Distribution')"
      ],
      "metadata": {
        "colab": {
          "base_uri": "https://localhost:8080/",
          "height": 299
        },
        "id": "5j6qtbuGziZN",
        "outputId": "cebb589b-1adb-4aa1-e2f5-f99a5ea90734"
      },
      "id": "5j6qtbuGziZN",
      "execution_count": 15,
      "outputs": [
        {
          "output_type": "execute_result",
          "data": {
            "text/plain": [
              "Text(0.5, 1.0, 'BuildingArea Distribution')"
            ]
          },
          "metadata": {},
          "execution_count": 15
        },
        {
          "output_type": "display_data",
          "data": {
            "text/plain": [
              "<Figure size 432x288 with 1 Axes>"
            ],
            "image/png": "[encoded data removed]"
          },
          "metadata": {
            "needs_background": "light"
          }
        }
      ]
    },
    {
      "cell_type": "markdown",
      "source": [
        "Get median `BuildingArea` for each suburb"
      ],
      "metadata": {
        "id": "pIqPTCXso77Z"
      },
      "id": "pIqPTCXso77Z"
    },
    {
      "cell_type": "code",
      "source": [
        "suburb_bldg_area_medians = df.groupby('Suburb')['BuildingArea'].median()\n",
        "# suburb_bldg_area_medians[suburb_bldg_area_medians > 0].isna()\n",
        "suburb_bldg_area_medians.sort_values()"
      ],
      "metadata": {
        "colab": {
          "base_uri": "https://localhost:8080/"
        },
        "id": "agginOruh7do",
        "outputId": "18360823-2c1a-4c55-edc3-3f66299fdde6"
      },
      "id": "agginOruh7do",
      "execution_count": 16,
      "outputs": [
        {
          "output_type": "execute_result",
          "data": {
            "text/plain": [
              "Suburb\n",
              "Guys Hill          0.0\n",
              "Melbourne         65.5\n",
              "St Kilda          74.0\n",
              "Glen Huntly       78.0\n",
              "Southbank         78.5\n",
              "                  ... \n",
              "Wandin North       NaN\n",
              "Werribee South     NaN\n",
              "Wildwood           NaN\n",
              "croydon            NaN\n",
              "viewbank           NaN\n",
              "Name: BuildingArea, Length: 351, dtype: float64"
            ]
          },
          "metadata": {},
          "execution_count": 16
        }
      ]
    },
    {
      "cell_type": "markdown",
      "source": [
        "Check the size of each suburb with NaN `BuildingArea`"
      ],
      "metadata": {
        "id": "ZdtQLbU4pBbR"
      },
      "id": "ZdtQLbU4pBbR"
    },
    {
      "cell_type": "code",
      "source": [
        "nan_bldg_areas = list(suburb_bldg_area_medians[suburb_bldg_area_medians.isna()].index)\n",
        "# print(nan_bldg_areas)\n",
        "df[df['Suburb'].isin(nan_bldg_areas)].groupby('Suburb').size().sort_values(ascending=False)"
      ],
      "metadata": {
        "colab": {
          "base_uri": "https://localhost:8080/"
        },
        "id": "KJVKt0PCpOd5",
        "outputId": "3572ae24-7054-4c85-8ffa-3e308aebd58c"
      },
      "id": "KJVKt0PCpOd5",
      "execution_count": 17,
      "outputs": [
        {
          "output_type": "execute_result",
          "data": {
            "text/plain": [
              "Suburb\n",
              "MacLeod           83\n",
              "Heatherton         5\n",
              "Rockbank           5\n",
              "Eumemmerring       3\n",
              "Tecoma             2\n",
              "                  ..\n",
              "Doveton            0\n",
              "Doreen             0\n",
              "Donvale            0\n",
              "Doncaster East     0\n",
              "Huntingdale        0\n",
              "Length: 351, dtype: int64"
            ]
          },
          "metadata": {},
          "execution_count": 17
        }
      ]
    },
    {
      "cell_type": "markdown",
      "source": [
        "Drop Suburbs with NaN median `BuildingArea` "
      ],
      "metadata": {
        "id": "_lgOv9hUtNl7"
      },
      "id": "_lgOv9hUtNl7"
    },
    {
      "cell_type": "code",
      "source": [
        "df = df[~df['Suburb'].isin(nan_bldg_areas)]\n",
        "df.shape"
      ],
      "metadata": {
        "colab": {
          "base_uri": "https://localhost:8080/"
        },
        "id": "bUuH4a0KsFlL",
        "outputId": "d59f4992-73ee-4e68-a0b6-a130211749e6"
      },
      "id": "bUuH4a0KsFlL",
      "execution_count": 18,
      "outputs": [
        {
          "output_type": "execute_result",
          "data": {
            "text/plain": [
              "(34733, 20)"
            ]
          },
          "metadata": {},
          "execution_count": 18
        }
      ]
    },
    {
      "cell_type": "markdown",
      "source": [
        "Replace the rest of 0 and NaN values in `BuildingArea` with their `Suburb` median"
      ],
      "metadata": {
        "id": "SSPj9Chsu1jF"
      },
      "id": "SSPj9Chsu1jF"
    },
    {
      "cell_type": "code",
      "source": [
        "df['BuildingArea'] = df.apply(lambda row: suburb_bldg_area_medians[row['Suburb']] if pd.isna(row['BuildingArea']) else row['BuildingArea'], axis=1)\n",
        "df.isna().sum().sort_values(ascending=False)"
      ],
      "metadata": {
        "colab": {
          "base_uri": "https://localhost:8080/"
        },
        "id": "E7Wene0Xux4i",
        "outputId": "72906aac-d2b7-4bb0-e86f-36206787705e"
      },
      "id": "E7Wene0Xux4i",
      "execution_count": 19,
      "outputs": [
        {
          "output_type": "execute_result",
          "data": {
            "text/plain": [
              "YearBuilt        19184\n",
              "Landsize         11707\n",
              "Longitude         7876\n",
              "Latitude          7876\n",
              "Price             7583\n",
              "Propertycount        2\n",
              "Regionname           2\n",
              "CouncilArea          2\n",
              "Car                  0\n",
              "BuildingArea         0\n",
              "Suburb               0\n",
              "Address              0\n",
              "Postcode             0\n",
              "Distance             0\n",
              "Date                 0\n",
              "SellerG              0\n",
              "Method               0\n",
              "Type                 0\n",
              "Rooms                0\n",
              "Bathroom             0\n",
              "dtype: int64"
            ]
          },
          "metadata": {},
          "execution_count": 19
        }
      ]
    },
    {
      "cell_type": "code",
      "source": [
        "df = df[df['Landsize']<10000]"
      ],
      "metadata": {
        "id": "SDZsINE0JXeW"
      },
      "id": "SDZsINE0JXeW",
      "execution_count": 20,
      "outputs": []
    },
    {
      "cell_type": "markdown",
      "source": [
        "## Handling missing `Landsize` values"
      ],
      "metadata": {
        "id": "dxejrsWhoult"
      },
      "id": "dxejrsWhoult"
    },
    {
      "cell_type": "code",
      "source": [
        "%matplotlib inline\n",
        "plt.hist(df['Landsize'],density=True)\n",
        "plt.yscale('log')\n",
        "plt.title('Landsize Distribution')\n"
      ],
      "metadata": {
        "colab": {
          "base_uri": "https://localhost:8080/",
          "height": 299
        },
        "id": "LNgzstJyosCx",
        "outputId": "b0947bb0-19cd-4f57-98c6-c33c9afe2c33"
      },
      "id": "LNgzstJyosCx",
      "execution_count": 21,
      "outputs": [
        {
          "output_type": "execute_result",
          "data": {
            "text/plain": [
              "Text(0.5, 1.0, 'Landsize Distribution')"
            ]
          },
          "metadata": {},
          "execution_count": 21
        },
        {
          "output_type": "display_data",
          "data": {
            "text/plain": [
              "<Figure size 432x288 with 1 Axes>"
            ],
            "image/png": "[encoded data removed]"
          },
          "metadata": {
            "needs_background": "light"
          }
        }
      ]
    },
    {
      "cell_type": "code",
      "source": [
        "df = df[df['Landsize']<60000]"
      ],
      "metadata": {
        "id": "elB7jj9OIp2A"
      },
      "id": "elB7jj9OIp2A",
      "execution_count": 22,
      "outputs": []
    },
    {
      "cell_type": "markdown",
      "source": [
        "## Handling missing `Price` values\n",
        "Using median price from suburb"
      ],
      "metadata": {
        "id": "Sr2t4DUEMSxl"
      },
      "id": "Sr2t4DUEMSxl"
    },
    {
      "cell_type": "code",
      "source": [
        "suburb_price_medians = df.groupby('Suburb')['Price'].median()\n",
        "df['Price'] = df.apply(lambda row: suburb_price_medians[row['Suburb']] if pd.isna(row['Price']) else row['Price'], axis=1)"
      ],
      "metadata": {
        "id": "P7lbZXN-MmBD"
      },
      "id": "P7lbZXN-MmBD",
      "execution_count": 23,
      "outputs": []
    },
    {
      "cell_type": "markdown",
      "source": [
        "Remove outliers \\\n",
        "A data point is an outlier if: \\\n",
        "$$data < Q1 - 1.5 \\times IQR$$\n",
        "$$data < Q3 + 1.5 \\times IQR$$"
      ],
      "metadata": {
        "id": "uTbLhe1Iejxz"
      },
      "id": "uTbLhe1Iejxz"
    },
    {
      "cell_type": "code",
      "source": [
        "from scipy.stats import iqr\n",
        "def remove_outliers(df,col):\n",
        "  IQR = iqr(df[col])\n",
        "  lower_threshold = np.quantile(df[col], 0.25) - 1.5 * IQR\n",
        "  upper_threshold = np.quantile(df[col], 0.75) + 1.5 * IQR\n",
        "  return df[(df[col] < lower_threshold) | (df[col] > upper_threshold)]"
      ],
      "metadata": {
        "id": "2j785mbIaeN1"
      },
      "id": "2j785mbIaeN1",
      "execution_count": 24,
      "outputs": []
    },
    {
      "cell_type": "code",
      "source": [
        "new_df = remove_outliers(df, 'Landsize')\n",
        "# new_df.describe()"
      ],
      "metadata": {
        "id": "gGuWcF_neZEi"
      },
      "id": "gGuWcF_neZEi",
      "execution_count": 25,
      "outputs": []
    },
    {
      "cell_type": "code",
      "source": [
        "new_df.shape"
      ],
      "metadata": {
        "colab": {
          "base_uri": "https://localhost:8080/"
        },
        "id": "MXm9AroCYBmQ",
        "outputId": "593bb0a3-fa2c-48e8-9154-fa6d4ec95d66"
      },
      "id": "MXm9AroCYBmQ",
      "execution_count": 26,
      "outputs": [
        {
          "output_type": "execute_result",
          "data": {
            "text/plain": [
              "(545, 20)"
            ]
          },
          "metadata": {},
          "execution_count": 26
        }
      ]
    },
    {
      "cell_type": "markdown",
      "source": [
        "There are 8 regions"
      ],
      "metadata": {
        "id": "2JPv7R9HnBv7"
      },
      "id": "2JPv7R9HnBv7"
    },
    {
      "cell_type": "code",
      "source": [
        "new_df = new_df.dropna(subset=['Regionname'])\n",
        "regions_unique = pd.unique(new_df.Regionname)\n",
        "print(regions_unique)\n",
        "print(len(regions_unique))"
      ],
      "metadata": {
        "id": "Yw-85mzimfHz",
        "outputId": "09c6c06f-f956-4a55-cc98-fadb7d0b995b",
        "colab": {
          "base_uri": "https://localhost:8080/"
        }
      },
      "id": "Yw-85mzimfHz",
      "execution_count": 27,
      "outputs": [
        {
          "output_type": "stream",
          "name": "stdout",
          "text": [
            "['Northern Metropolitan', 'Southern Metropolitan', 'Western Metropolitan', 'Eastern Metropolitan', 'Eastern Victoria', 'South-Eastern Metropolitan', 'Northern Victoria', 'Western Victoria']\n",
            "Categories (8, object): ['Eastern Metropolitan', 'Eastern Victoria', 'Northern Metropolitan',\n",
            "                         'Northern Victoria', 'South-Eastern Metropolitan', 'Southern Metropolitan',\n",
            "                         'Western Metropolitan', 'Western Victoria']\n",
            "8\n"
          ]
        }
      ]
    },
    {
      "cell_type": "markdown",
      "source": [
        "Regional average price"
      ],
      "metadata": {
        "id": "zXbhl0FFpiFI"
      },
      "id": "zXbhl0FFpiFI"
    },
    {
      "cell_type": "code",
      "source": [
        "df.groupby('Regionname')['Price'].mean().sort_values(ascending=False)"
      ],
      "metadata": {
        "id": "NjgFGlFjpru5",
        "outputId": "b2ad5c13-757d-4a73-cfe1-a34ce70b4179",
        "colab": {
          "base_uri": "https://localhost:8080/"
        }
      },
      "id": "NjgFGlFjpru5",
      "execution_count": 28,
      "outputs": [
        {
          "output_type": "execute_result",
          "data": {
            "text/plain": [
              "Regionname\n",
              "Southern Metropolitan         1.463455e+06\n",
              "Eastern Metropolitan          1.138532e+06\n",
              "South-Eastern Metropolitan    9.101755e+05\n",
              "Northern Metropolitan         9.072590e+05\n",
              "Western Metropolitan          8.685583e+05\n",
              "Eastern Victoria              7.035036e+05\n",
              "Northern Victoria             5.778306e+05\n",
              "Western Victoria              4.358642e+05\n",
              "Name: Price, dtype: float64"
            ]
          },
          "metadata": {},
          "execution_count": 28
        }
      ]
    },
    {
      "cell_type": "markdown",
      "source": [
        "Methods by region: \\\n",
        "S - property sold; SP - property sold prior; PI - property passed in; PN - sold prior not disclosed; SN - sold not disclosed; NB - no bid; VB - vendor bid; W - withdrawn prior to auction; SA - sold after auction; SS - sold after auction price not disclosed. N/A - price or highest bid not available."
      ],
      "metadata": {
        "id": "JiVDt9P5qLEK"
      },
      "id": "JiVDt9P5qLEK"
    },
    {
      "cell_type": "code",
      "source": [
        "pd.crosstab(df.Regionname, df.Method, margins=True)"
      ],
      "metadata": {
        "id": "0C1tmeW4qKid",
        "outputId": "9485f9d9-3821-4ca8-970b-16a49c0dee58",
        "colab": {
          "base_uri": "https://localhost:8080/",
          "height": 363
        }
      },
      "id": "0C1tmeW4qKid",
      "execution_count": 29,
      "outputs": [
        {
          "output_type": "execute_result",
          "data": {
            "text/plain": [
              "Method                        PI   PN      S   SA   SN    SP  SS    VB    W  \\\n",
              "Regionname                                                                    \n",
              "Eastern Metropolitan         422   34   1561   26  214   347   7   243    8   \n",
              "Eastern Victoria              18    3     59    3    7    28   0    14    2   \n",
              "Northern Metropolitan        791   34   3835   22  208   907   5   435   29   \n",
              "Northern Victoria              8    1     59    1    9    33   1     7    2   \n",
              "South-Eastern Metropolitan   171   11    586   12   53   140   3    53   15   \n",
              "Southern Metropolitan       1086   72   4456   63  321   935   8   861   12   \n",
              "Western Metropolitan         575   43   2627   26  133   903   2   310   43   \n",
              "Western Victoria              10    4     50    0    2    12   0     3    0   \n",
              "All                         3081  202  13233  153  947  3305  26  1926  111   \n",
              "\n",
              "Method                        All  \n",
              "Regionname                         \n",
              "Eastern Metropolitan         2862  \n",
              "Eastern Victoria              134  \n",
              "Northern Metropolitan        6266  \n",
              "Northern Victoria             121  \n",
              "South-Eastern Metropolitan   1044  \n",
              "Southern Metropolitan        7814  \n",
              "Western Metropolitan         4662  \n",
              "Western Victoria               81  \n",
              "All                         22984  "
            ],
            "text/html": [
              "\n",
              "  <div id=\"df-0d73f1dc-1f98-4ca1-a4f7-e407452dfd8c\">\n",
              "    <div class=\"colab-df-container\">\n",
              "      <div>\n",
              "<style scoped>\n",
              "    .dataframe tbody tr th:only-of-type {\n",
              "        vertical-align: middle;\n",
              "    }\n",
              "\n",
              "    .dataframe tbody tr th {\n",
              "        vertical-align: top;\n",
              "    }\n",
              "\n",
              "    .dataframe thead th {\n",
              "        text-align: right;\n",
              "    }\n",
              "</style>\n",
              "<table border=\"1\" class=\"dataframe\">\n",
              "  <thead>\n",
              "    <tr style=\"text-align: right;\">\n",
              "      <th>Method</th>\n",
              "      <th>PI</th>\n",
              "      <th>PN</th>\n",
              "      <th>S</th>\n",
              "      <th>SA</th>\n",
              "      <th>SN</th>\n",
              "      <th>SP</th>\n",
              "      <th>SS</th>\n",
              "      <th>VB</th>\n",
              "      <th>W</th>\n",
              "      <th>All</th>\n",
              "    </tr>\n",
              "    <tr>\n",
              "      <th>Regionname</th>\n",
              "      <th></th>\n",
              "      <th></th>\n",
              "      <th></th>\n",
              "      <th></th>\n",
              "      <th></th>\n",
              "      <th></th>\n",
              "      <th></th>\n",
              "      <th></th>\n",
              "      <th></th>\n",
              "      <th></th>\n",
              "    </tr>\n",
              "  </thead>\n",
              "  <tbody>\n",
              "    <tr>\n",
              "      <th>Eastern Metropolitan</th>\n",
              "      <td>422</td>\n",
              "      <td>34</td>\n",
              "      <td>1561</td>\n",
              "      <td>26</td>\n",
              "      <td>214</td>\n",
              "      <td>347</td>\n",
              "      <td>7</td>\n",
              "      <td>243</td>\n",
              "      <td>8</td>\n",
              "      <td>2862</td>\n",
              "    </tr>\n",
              "    <tr>\n",
              "      <th>Eastern Victoria</th>\n",
              "      <td>18</td>\n",
              "      <td>3</td>\n",
              "      <td>59</td>\n",
              "      <td>3</td>\n",
              "      <td>7</td>\n",
              "      <td>28</td>\n",
              "      <td>0</td>\n",
              "      <td>14</td>\n",
              "      <td>2</td>\n",
              "      <td>134</td>\n",
              "    </tr>\n",
              "    <tr>\n",
              "      <th>Northern Metropolitan</th>\n",
              "      <td>791</td>\n",
              "      <td>34</td>\n",
              "      <td>3835</td>\n",
              "      <td>22</td>\n",
              "      <td>208</td>\n",
              "      <td>907</td>\n",
              "      <td>5</td>\n",
              "      <td>435</td>\n",
              "      <td>29</td>\n",
              "      <td>6266</td>\n",
              "    </tr>\n",
              "    <tr>\n",
              "      <th>Northern Victoria</th>\n",
              "      <td>8</td>\n",
              "      <td>1</td>\n",
              "      <td>59</td>\n",
              "      <td>1</td>\n",
              "      <td>9</td>\n",
              "      <td>33</td>\n",
              "      <td>1</td>\n",
              "      <td>7</td>\n",
              "      <td>2</td>\n",
              "      <td>121</td>\n",
              "    </tr>\n",
              "    <tr>\n",
              "      <th>South-Eastern Metropolitan</th>\n",
              "      <td>171</td>\n",
              "      <td>11</td>\n",
              "      <td>586</td>\n",
              "      <td>12</td>\n",
              "      <td>53</td>\n",
              "      <td>140</td>\n",
              "      <td>3</td>\n",
              "      <td>53</td>\n",
              "      <td>15</td>\n",
              "      <td>1044</td>\n",
              "    </tr>\n",
              "    <tr>\n",
              "      <th>Southern Metropolitan</th>\n",
              "      <td>1086</td>\n",
              "      <td>72</td>\n",
              "      <td>4456</td>\n",
              "      <td>63</td>\n",
              "      <td>321</td>\n",
              "      <td>935</td>\n",
              "      <td>8</td>\n",
              "      <td>861</td>\n",
              "      <td>12</td>\n",
              "      <td>7814</td>\n",
              "    </tr>\n",
              "    <tr>\n",
              "      <th>Western Metropolitan</th>\n",
              "      <td>575</td>\n",
              "      <td>43</td>\n",
              "      <td>2627</td>\n",
              "      <td>26</td>\n",
              "      <td>133</td>\n",
              "      <td>903</td>\n",
              "      <td>2</td>\n",
              "      <td>310</td>\n",
              "      <td>43</td>\n",
              "      <td>4662</td>\n",
              "    </tr>\n",
              "    <tr>\n",
              "      <th>Western Victoria</th>\n",
              "      <td>10</td>\n",
              "      <td>4</td>\n",
              "      <td>50</td>\n",
              "      <td>0</td>\n",
              "      <td>2</td>\n",
              "      <td>12</td>\n",
              "      <td>0</td>\n",
              "      <td>3</td>\n",
              "      <td>0</td>\n",
              "      <td>81</td>\n",
              "    </tr>\n",
              "    <tr>\n",
              "      <th>All</th>\n",
              "      <td>3081</td>\n",
              "      <td>202</td>\n",
              "      <td>13233</td>\n",
              "      <td>153</td>\n",
              "      <td>947</td>\n",
              "      <td>3305</td>\n",
              "      <td>26</td>\n",
              "      <td>1926</td>\n",
              "      <td>111</td>\n",
              "      <td>22984</td>\n",
              "    </tr>\n",
              "  </tbody>\n",
              "</table>\n",
              "</div>\n",
              "      <button class=\"colab-df-convert\" onclick=\"convertToInteractive('df-0d73f1dc-1f98-4ca1-a4f7-e407452dfd8c')\"\n",
              "              title=\"Convert this dataframe to an interactive table.\"\n",
              "              style=\"display:none;\">\n",
              "        \n",
              "  <svg xmlns=\"http://www.w3.org/2000/svg\" height=\"24px\"viewBox=\"0 0 24 24\"\n",
              "       width=\"24px\">\n",
              "    <path d=\"M0 0h24v24H0V0z\" fill=\"none\"/>\n",
              "    <path d=\"M18.56 5.44l.94 2.06.94-2.06 2.06-.94-2.06-.94-.94-2.06-.94 2.06-2.06.94zm-11 1L8.5 8.5l.94-2.06 2.06-.94-2.06-.94L8.5 2.5l-.94 2.06-2.06.94zm10 10l.94 2.06.94-2.06 2.06-.94-2.06-.94-.94-2.06-.94 2.06-2.06.94z\"/><path d=\"M17.41 7.96l-1.37-1.37c-.4-.4-.92-.59-1.43-.59-.52 0-1.04.2-1.43.59L10.3 9.45l-7.72 7.72c-.78.78-.78 2.05 0 2.83L4 21.41c.39.39.9.59 1.41.59.51 0 1.02-.2 1.41-.59l7.78-7.78 2.81-2.81c.8-.78.8-2.07 0-2.86zM5.41 20L4 18.59l7.72-7.72 1.47 1.35L5.41 20z\"/>\n",
              "  </svg>\n",
              "      </button>\n",
              "      \n",
              "  <style>\n",
              "    .colab-df-container {\n",
              "      display:flex;\n",
              "      flex-wrap:wrap;\n",
              "      gap: 12px;\n",
              "    }\n",
              "\n",
              "    .colab-df-convert {\n",
              "      background-color: #E8F0FE;\n",
              "      border: none;\n",
              "      border-radius: 50%;\n",
              "      cursor: pointer;\n",
              "      display: none;\n",
              "      fill: #1967D2;\n",
              "      height: 32px;\n",
              "      padding: 0 0 0 0;\n",
              "      width: 32px;\n",
              "    }\n",
              "\n",
              "    .colab-df-convert:hover {\n",
              "      background-color: #E2EBFA;\n",
              "      box-shadow: 0px 1px 2px rgba(60, 64, 67, 0.3), 0px 1px 3px 1px rgba(60, 64, 67, 0.15);\n",
              "      fill: #174EA6;\n",
              "    }\n",
              "\n",
              "    [theme=dark] .colab-df-convert {\n",
              "      background-color: #3B4455;\n",
              "      fill: #D2E3FC;\n",
              "    }\n",
              "\n",
              "    [theme=dark] .colab-df-convert:hover {\n",
              "      background-color: #434B5C;\n",
              "      box-shadow: 0px 1px 3px 1px rgba(0, 0, 0, 0.15);\n",
              "      filter: drop-shadow(0px 1px 2px rgba(0, 0, 0, 0.3));\n",
              "      fill: #FFFFFF;\n",
              "    }\n",
              "  </style>\n",
              "\n",
              "      <script>\n",
              "        const buttonEl =\n",
              "          document.querySelector('#df-0d73f1dc-1f98-4ca1-a4f7-e407452dfd8c button.colab-df-convert');\n",
              "        buttonEl.style.display =\n",
              "          google.colab.kernel.accessAllowed ? 'block' : 'none';\n",
              "\n",
              "        async function convertToInteractive(key) {\n",
              "          const element = document.querySelector('#df-0d73f1dc-1f98-4ca1-a4f7-e407452dfd8c');\n",
              "          const dataTable =\n",
              "            await google.colab.kernel.invokeFunction('convertToInteractive',\n",
              "                                                     [key], {});\n",
              "          if (!dataTable) return;\n",
              "\n",
              "          const docLinkHtml = 'Like what you see? Visit the ' +\n",
              "            '<a target=\"_blank\" href=https://colab.research.google.com/notebooks/data_table.ipynb>data table notebook</a>'\n",
              "            + ' to learn more about interactive tables.';\n",
              "          element.innerHTML = '';\n",
              "          dataTable['output_type'] = 'display_data';\n",
              "          await google.colab.output.renderOutput(dataTable, element);\n",
              "          const docLink = document.createElement('div');\n",
              "          docLink.innerHTML = docLinkHtml;\n",
              "          element.appendChild(docLink);\n",
              "        }\n",
              "      </script>\n",
              "    </div>\n",
              "  </div>\n",
              "  "
            ]
          },
          "metadata": {},
          "execution_count": 29
        }
      ]
    },
    {
      "cell_type": "code",
      "source": [
        "%matplotlib inline\n",
        "plt.scatter(df['Latitude'], df['Longitude'], alpha=0.02)"
      ],
      "metadata": {
        "colab": {
          "base_uri": "https://localhost:8080/",
          "height": 283
        },
        "id": "7l_uc6q4tlmX",
        "outputId": "2ab9fae4-ea94-4b86-bed7-5072a5c0a4dd"
      },
      "id": "7l_uc6q4tlmX",
      "execution_count": 30,
      "outputs": [
        {
          "output_type": "execute_result",
          "data": {
            "text/plain": [
              "<matplotlib.collections.PathCollection at 0x7f1ca9edbbe0>"
            ]
          },
          "metadata": {},
          "execution_count": 30
        },
        {
          "output_type": "display_data",
          "data": {
            "text/plain": [
              "<Figure size 432x288 with 1 Axes>"
            ],
            "image/png": "[encoded data removed]"
          },
          "metadata": {
            "needs_background": "light"
          }
        }
      ]
    },
    {
      "cell_type": "code",
      "execution_count": 31,
      "id": "a0005d29",
      "metadata": {
        "id": "a0005d29",
        "outputId": "b4354eb4-bcf4-4bce-de79-1ed464a26324",
        "colab": {
          "base_uri": "https://localhost:8080/",
          "height": 237
        }
      },
      "outputs": [
        {
          "output_type": "execute_result",
          "data": {
            "text/plain": [
              "                  Price  Landsize  BuildingArea\n",
              "Suburb                                         \n",
              "Kurunjang      368500.0     651.0         138.0\n",
              "Melton         409000.0     590.0         127.0\n",
              "Bacchus Marsh  412000.0     818.0         129.0\n",
              "Melton South   416250.0     603.0         115.5\n",
              "Melton West    438000.0     727.0         148.0"
            ],
            "text/html": [
              "\n",
              "  <div id=\"df-45ce4309-652e-4949-b1c4-889c3ff66ca1\">\n",
              "    <div class=\"colab-df-container\">\n",
              "      <div>\n",
              "<style scoped>\n",
              "    .dataframe tbody tr th:only-of-type {\n",
              "        vertical-align: middle;\n",
              "    }\n",
              "\n",
              "    .dataframe tbody tr th {\n",
              "        vertical-align: top;\n",
              "    }\n",
              "\n",
              "    .dataframe thead th {\n",
              "        text-align: right;\n",
              "    }\n",
              "</style>\n",
              "<table border=\"1\" class=\"dataframe\">\n",
              "  <thead>\n",
              "    <tr style=\"text-align: right;\">\n",
              "      <th></th>\n",
              "      <th>Price</th>\n",
              "      <th>Landsize</th>\n",
              "      <th>BuildingArea</th>\n",
              "    </tr>\n",
              "    <tr>\n",
              "      <th>Suburb</th>\n",
              "      <th></th>\n",
              "      <th></th>\n",
              "      <th></th>\n",
              "    </tr>\n",
              "  </thead>\n",
              "  <tbody>\n",
              "    <tr>\n",
              "      <th>Kurunjang</th>\n",
              "      <td>368500.0</td>\n",
              "      <td>651.0</td>\n",
              "      <td>138.0</td>\n",
              "    </tr>\n",
              "    <tr>\n",
              "      <th>Melton</th>\n",
              "      <td>409000.0</td>\n",
              "      <td>590.0</td>\n",
              "      <td>127.0</td>\n",
              "    </tr>\n",
              "    <tr>\n",
              "      <th>Bacchus Marsh</th>\n",
              "      <td>412000.0</td>\n",
              "      <td>818.0</td>\n",
              "      <td>129.0</td>\n",
              "    </tr>\n",
              "    <tr>\n",
              "      <th>Melton South</th>\n",
              "      <td>416250.0</td>\n",
              "      <td>603.0</td>\n",
              "      <td>115.5</td>\n",
              "    </tr>\n",
              "    <tr>\n",
              "      <th>Melton West</th>\n",
              "      <td>438000.0</td>\n",
              "      <td>727.0</td>\n",
              "      <td>148.0</td>\n",
              "    </tr>\n",
              "  </tbody>\n",
              "</table>\n",
              "</div>\n",
              "      <button class=\"colab-df-convert\" onclick=\"convertToInteractive('df-45ce4309-652e-4949-b1c4-889c3ff66ca1')\"\n",
              "              title=\"Convert this dataframe to an interactive table.\"\n",
              "              style=\"display:none;\">\n",
              "        \n",
              "  <svg xmlns=\"http://www.w3.org/2000/svg\" height=\"24px\"viewBox=\"0 0 24 24\"\n",
              "       width=\"24px\">\n",
              "    <path d=\"M0 0h24v24H0V0z\" fill=\"none\"/>\n",
              "    <path d=\"M18.56 5.44l.94 2.06.94-2.06 2.06-.94-2.06-.94-.94-2.06-.94 2.06-2.06.94zm-11 1L8.5 8.5l.94-2.06 2.06-.94-2.06-.94L8.5 2.5l-.94 2.06-2.06.94zm10 10l.94 2.06.94-2.06 2.06-.94-2.06-.94-.94-2.06-.94 2.06-2.06.94z\"/><path d=\"M17.41 7.96l-1.37-1.37c-.4-.4-.92-.59-1.43-.59-.52 0-1.04.2-1.43.59L10.3 9.45l-7.72 7.72c-.78.78-.78 2.05 0 2.83L4 21.41c.39.39.9.59 1.41.59.51 0 1.02-.2 1.41-.59l7.78-7.78 2.81-2.81c.8-.78.8-2.07 0-2.86zM5.41 20L4 18.59l7.72-7.72 1.47 1.35L5.41 20z\"/>\n",
              "  </svg>\n",
              "      </button>\n",
              "      \n",
              "  <style>\n",
              "    .colab-df-container {\n",
              "      display:flex;\n",
              "      flex-wrap:wrap;\n",
              "      gap: 12px;\n",
              "    }\n",
              "\n",
              "    .colab-df-convert {\n",
              "      background-color: #E8F0FE;\n",
              "      border: none;\n",
              "      border-radius: 50%;\n",
              "      cursor: pointer;\n",
              "      display: none;\n",
              "      fill: #1967D2;\n",
              "      height: 32px;\n",
              "      padding: 0 0 0 0;\n",
              "      width: 32px;\n",
              "    }\n",
              "\n",
              "    .colab-df-convert:hover {\n",
              "      background-color: #E2EBFA;\n",
              "      box-shadow: 0px 1px 2px rgba(60, 64, 67, 0.3), 0px 1px 3px 1px rgba(60, 64, 67, 0.15);\n",
              "      fill: #174EA6;\n",
              "    }\n",
              "\n",
              "    [theme=dark] .colab-df-convert {\n",
              "      background-color: #3B4455;\n",
              "      fill: #D2E3FC;\n",
              "    }\n",
              "\n",
              "    [theme=dark] .colab-df-convert:hover {\n",
              "      background-color: #434B5C;\n",
              "      box-shadow: 0px 1px 3px 1px rgba(0, 0, 0, 0.15);\n",
              "      filter: drop-shadow(0px 1px 2px rgba(0, 0, 0, 0.3));\n",
              "      fill: #FFFFFF;\n",
              "    }\n",
              "  </style>\n",
              "\n",
              "      <script>\n",
              "        const buttonEl =\n",
              "          document.querySelector('#df-45ce4309-652e-4949-b1c4-889c3ff66ca1 button.colab-df-convert');\n",
              "        buttonEl.style.display =\n",
              "          google.colab.kernel.accessAllowed ? 'block' : 'none';\n",
              "\n",
              "        async function convertToInteractive(key) {\n",
              "          const element = document.querySelector('#df-45ce4309-652e-4949-b1c4-889c3ff66ca1');\n",
              "          const dataTable =\n",
              "            await google.colab.kernel.invokeFunction('convertToInteractive',\n",
              "                                                     [key], {});\n",
              "          if (!dataTable) return;\n",
              "\n",
              "          const docLinkHtml = 'Like what you see? Visit the ' +\n",
              "            '<a target=\"_blank\" href=https://colab.research.google.com/notebooks/data_table.ipynb>data table notebook</a>'\n",
              "            + ' to learn more about interactive tables.';\n",
              "          element.innerHTML = '';\n",
              "          dataTable['output_type'] = 'display_data';\n",
              "          await google.colab.output.renderOutput(dataTable, element);\n",
              "          const docLink = document.createElement('div');\n",
              "          docLink.innerHTML = docLinkHtml;\n",
              "          element.appendChild(docLink);\n",
              "        }\n",
              "      </script>\n",
              "    </div>\n",
              "  </div>\n",
              "  "
            ]
          },
          "metadata": {},
          "execution_count": 31
        }
      ],
      "source": [
        "df.groupby('Suburb')[['Price','Landsize', 'BuildingArea']].median().sort_values(by='Price').head()"
      ]
    },
    {
      "cell_type": "code",
      "execution_count": 32,
      "id": "ba7da2be",
      "metadata": {
        "id": "ba7da2be",
        "colab": {
          "base_uri": "https://localhost:8080/",
          "height": 313
        },
        "outputId": "f7187571-b510-4ff2-bf31-2de2db71424d"
      },
      "outputs": [
        {
          "output_type": "execute_result",
          "data": {
            "text/plain": [
              "Text(0.5, 1.0, 'Rooms vs Price')"
            ]
          },
          "metadata": {},
          "execution_count": 32
        },
        {
          "output_type": "display_data",
          "data": {
            "text/plain": [
              "<Figure size 432x288 with 1 Axes>"
            ],
            "image/png": "[encoded data removed]"
          },
          "metadata": {
            "needs_background": "light"
          }
        }
      ],
      "source": [
        "plt.scatter(df['Rooms'], df['Price'], alpha=0.5)\n",
        "plt.xlabel('Rooms')\n",
        "plt.ylabel('Price')\n",
        "plt.title('Rooms vs Price')"
      ]
    },
    {
      "cell_type": "markdown",
      "source": [
        "Distance: Distance from CBD"
      ],
      "metadata": {
        "id": "bu_s0Z5lLgBC"
      },
      "id": "bu_s0Z5lLgBC"
    },
    {
      "cell_type": "code",
      "source": [
        "plt.scatter(df['Distance'], df['Price'], alpha=0.3)\n",
        "plt.xlabel('Distance')\n",
        "plt.ylabel('Price')\n",
        "plt.title('Distance vs Price')"
      ],
      "metadata": {
        "colab": {
          "base_uri": "https://localhost:8080/",
          "height": 313
        },
        "id": "5tSZ6Nh8HkiQ",
        "outputId": "3378ad09-c828-43cc-da8f-a9eef79d6418"
      },
      "id": "5tSZ6Nh8HkiQ",
      "execution_count": 33,
      "outputs": [
        {
          "output_type": "execute_result",
          "data": {
            "text/plain": [
              "Text(0.5, 1.0, 'Distance vs Price')"
            ]
          },
          "metadata": {},
          "execution_count": 33
        },
        {
          "output_type": "display_data",
          "data": {
            "text/plain": [
              "<Figure size 432x288 with 1 Axes>"
            ],
            "image/png": "[encoded data removed]"
          },
          "metadata": {
            "needs_background": "light"
          }
        }
      ]
    },
    {
      "cell_type": "code",
      "source": [
        "plt.scatter(df['Bathroom'], df['Price'], alpha=0.5)\n",
        "plt.xlabel('Bathroom')\n",
        "plt.ylabel('Price')\n",
        "plt.title('Bathroom vs Price')"
      ],
      "metadata": {
        "colab": {
          "base_uri": "https://localhost:8080/",
          "height": 313
        },
        "id": "BzeN37EoIPlo",
        "outputId": "8726d6c6-25b1-433e-81c4-55c3e63c5c3b"
      },
      "id": "BzeN37EoIPlo",
      "execution_count": 34,
      "outputs": [
        {
          "output_type": "execute_result",
          "data": {
            "text/plain": [
              "Text(0.5, 1.0, 'Bathroom vs Price')"
            ]
          },
          "metadata": {},
          "execution_count": 34
        },
        {
          "output_type": "display_data",
          "data": {
            "text/plain": [
              "<Figure size 432x288 with 1 Axes>"
            ],
            "image/png": "[encoded data removed]"
          },
          "metadata": {
            "needs_background": "light"
          }
        }
      ]
    },
    {
      "cell_type": "markdown",
      "source": [
        "Car: Number of carspots"
      ],
      "metadata": {
        "id": "ruxCK5csLko7"
      },
      "id": "ruxCK5csLko7"
    },
    {
      "cell_type": "code",
      "source": [
        "plt.scatter(df['Car'], df['Price'], alpha=0.5)\n",
        "plt.xlabel('Car')\n",
        "plt.ylabel('Price')\n",
        "plt.title('Car vs Price')"
      ],
      "metadata": {
        "colab": {
          "base_uri": "https://localhost:8080/",
          "height": 313
        },
        "id": "q-nIJMBnITSN",
        "outputId": "71c107af-f867-48b3-ab94-0a39a86d2d18"
      },
      "id": "q-nIJMBnITSN",
      "execution_count": 35,
      "outputs": [
        {
          "output_type": "execute_result",
          "data": {
            "text/plain": [
              "Text(0.5, 1.0, 'Car vs Price')"
            ]
          },
          "metadata": {},
          "execution_count": 35
        },
        {
          "output_type": "display_data",
          "data": {
            "text/plain": [
              "<Figure size 432x288 with 1 Axes>"
            ],
            "image/png": "[encoded data removed]"
          },
          "metadata": {
            "needs_background": "light"
          }
        }
      ]
    },
    {
      "cell_type": "code",
      "source": [
        "plt.scatter(df['Landsize'], df['Price'], alpha=0.5)\n",
        "plt.xlabel('Landsize')\n",
        "plt.ylabel('Price')\n",
        "plt.title('Landsize vs Price')"
      ],
      "metadata": {
        "colab": {
          "base_uri": "https://localhost:8080/",
          "height": 313
        },
        "id": "sIxyuYspIeIM",
        "outputId": "a9995262-8662-46ad-9ab8-e06c3d25b10f"
      },
      "id": "sIxyuYspIeIM",
      "execution_count": 36,
      "outputs": [
        {
          "output_type": "execute_result",
          "data": {
            "text/plain": [
              "Text(0.5, 1.0, 'Landsize vs Price')"
            ]
          },
          "metadata": {},
          "execution_count": 36
        },
        {
          "output_type": "display_data",
          "data": {
            "text/plain": [
              "<Figure size 432x288 with 1 Axes>"
            ],
            "image/png": "[encoded data removed]"
          },
          "metadata": {
            "needs_background": "light"
          }
        }
      ]
    },
    {
      "cell_type": "code",
      "source": [
        "plt.scatter(df['BuildingArea'], df['Price'], alpha=0.5)\n",
        "plt.xlabel('BuildingArea')\n",
        "plt.ylabel('Price')\n",
        "plt.title('BuildingArea vs Price')"
      ],
      "metadata": {
        "colab": {
          "base_uri": "https://localhost:8080/",
          "height": 313
        },
        "id": "QvkMZZ8_I7Jn",
        "outputId": "628bac53-3306-44a7-97bf-65e917e6328d"
      },
      "id": "QvkMZZ8_I7Jn",
      "execution_count": 37,
      "outputs": [
        {
          "output_type": "execute_result",
          "data": {
            "text/plain": [
              "Text(0.5, 1.0, 'BuildingArea vs Price')"
            ]
          },
          "metadata": {},
          "execution_count": 37
        },
        {
          "output_type": "display_data",
          "data": {
            "text/plain": [
              "<Figure size 432x288 with 1 Axes>"
            ],
            "image/png": "[encoded data removed]"
          },
          "metadata": {
            "needs_background": "light"
          }
        }
      ]
    },
    {
      "cell_type": "code",
      "source": [
        "plt.scatter(df['YearBuilt'], df['Price'], alpha=0.5)\n",
        "plt.xlabel('YearBuilt')\n",
        "plt.ylabel('Price')\n",
        "plt.title('YearBuilt vs Price')"
      ],
      "metadata": {
        "colab": {
          "base_uri": "https://localhost:8080/",
          "height": 313
        },
        "id": "bkRiz4tIJomO",
        "outputId": "c69cec30-96b0-48a2-e41c-e4dbae43d2ce"
      },
      "id": "bkRiz4tIJomO",
      "execution_count": 38,
      "outputs": [
        {
          "output_type": "execute_result",
          "data": {
            "text/plain": [
              "Text(0.5, 1.0, 'YearBuilt vs Price')"
            ]
          },
          "metadata": {},
          "execution_count": 38
        },
        {
          "output_type": "display_data",
          "data": {
            "text/plain": [
              "<Figure size 432x288 with 1 Axes>"
            ],
            "image/png": "[encoded data removed]"
          },
          "metadata": {
            "needs_background": "light"
          }
        }
      ]
    },
    {
      "cell_type": "code",
      "source": [
        "plt.scatter(df['Propertycount'], df['Price'], alpha=0.5)\n",
        "plt.xlabel('Propertycount')\n",
        "plt.ylabel('Price')\n",
        "plt.title('Propertycount vs Price')"
      ],
      "metadata": {
        "colab": {
          "base_uri": "https://localhost:8080/",
          "height": 313
        },
        "id": "P9GbPudNJxRE",
        "outputId": "93e95293-9372-476b-e1c6-6483ab3551e8"
      },
      "id": "P9GbPudNJxRE",
      "execution_count": 39,
      "outputs": [
        {
          "output_type": "execute_result",
          "data": {
            "text/plain": [
              "Text(0.5, 1.0, 'Propertycount vs Price')"
            ]
          },
          "metadata": {},
          "execution_count": 39
        },
        {
          "output_type": "display_data",
          "data": {
            "text/plain": [
              "<Figure size 432x288 with 1 Axes>"
            ],
            "image/png": "[encoded data removed]"
          },
          "metadata": {
            "needs_background": "light"
          }
        }
      ]
    }
  ],
  "metadata": {
    "kernelspec": {
      "display_name": "Python 3 (ipykernel)",
      "language": "python",
      "name": "python3"
    },
    "language_info": {
      "codemirror_mode": {
        "name": "ipython",
        "version": 3
      },
      "file_extension": ".py",
      "mimetype": "text/x-python",
      "name": "python",
      "nbconvert_exporter": "python",
      "pygments_lexer": "ipython3",
      "version": "3.10.4"
    },
    "colab": {
      "provenance": []
    }
  },
  "nbformat": 4,
  "nbformat_minor": 5
}